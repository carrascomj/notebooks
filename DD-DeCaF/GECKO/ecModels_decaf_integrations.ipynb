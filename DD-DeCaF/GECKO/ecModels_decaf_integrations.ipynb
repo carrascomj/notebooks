{
 "cells": [
  {
   "cell_type": "markdown",
   "metadata": {},
   "source": [
    "# Notebook about integrating GECKO models into DD-DeCaF\n",
    "\n",
    "This notebook contains three stages of the integration of enzyme constrain models (ecModels) to the platform:\n",
    "1. Test of ecModel of *Escherichia coli* eciML1515.\n",
    "2. Functions to be added to `driven.py`.\n",
    "3. Test of these functions.\n",
    "\n",
    "## 1. Testing the model of E. coli\n",
    "\n",
    "As a controlled-version model, it can be downloaded from the [GitHub](https://github.com/SysBioChalmers/ecModels/blob/chore/updateiML1515/eciML1515/model/eciML1515.xml) repository. We're using a modified version with bounds in a cobrapy-like manner."
   ]
  },
  {
   "cell_type": "code",
   "execution_count": 1,
   "metadata": {},
   "outputs": [],
   "source": [
    "! [ ! -f \"eciML1515.xml\" ] && curl -O -L \"https://raw.githubusercontent.com/BenjaSanchez/notebooks/master/eciML1515.xml\""
   ]
  },
  {
   "cell_type": "code",
   "execution_count": 2,
   "metadata": {},
   "outputs": [],
   "source": [
    "import cobra\n",
    "\n",
    "model = cobra.io.read_sbml_model(\"eciML1515.xml\")"
   ]
  },
  {
   "cell_type": "markdown",
   "metadata": {},
   "source": [
    "Notice here that the actual model to be uploaded in the DD-DeCaF platform will be in `JSON` format.\n",
    "Now, it is time to test the model and see if its behavior is fine."
   ]
  },
  {
   "cell_type": "code",
   "execution_count": 3,
   "metadata": {},
   "outputs": [
    {
     "data": {
      "text/latex": [
       "$\\displaystyle 1.0 BIOMASS_{Ec iML1515 core 75p37M}$"
      ],
      "text/plain": [
       "1.0*BIOMASS_Ec_iML1515_core_75p37M"
      ]
     },
     "execution_count": 3,
     "metadata": {},
     "output_type": "execute_result"
    }
   ],
   "source": [
    "model.objective.expression.args[0]"
   ]
  },
  {
   "cell_type": "code",
   "execution_count": 4,
   "metadata": {},
   "outputs": [
    {
     "data": {
      "text/html": [
       "<strong><em>Optimal</em> solution with objective value 0.877</strong><br><div>\n",
       "<style scoped>\n",
       "    .dataframe tbody tr th:only-of-type {\n",
       "        vertical-align: middle;\n",
       "    }\n",
       "\n",
       "    .dataframe tbody tr th {\n",
       "        vertical-align: top;\n",
       "    }\n",
       "\n",
       "    .dataframe thead th {\n",
       "        text-align: right;\n",
       "    }\n",
       "</style>\n",
       "<table border=\"1\" class=\"dataframe\">\n",
       "  <thead>\n",
       "    <tr style=\"text-align: right;\">\n",
       "      <th></th>\n",
       "      <th>fluxes</th>\n",
       "      <th>reduced_costs</th>\n",
       "    </tr>\n",
       "  </thead>\n",
       "  <tbody>\n",
       "    <tr>\n",
       "      <td>EX_acgam_e</td>\n",
       "      <td>0.000000</td>\n",
       "      <td>-0.282126</td>\n",
       "    </tr>\n",
       "    <tr>\n",
       "      <td>EX_cellb_e</td>\n",
       "      <td>0.000000</td>\n",
       "      <td>-0.361121</td>\n",
       "    </tr>\n",
       "    <tr>\n",
       "      <td>EX_chol_e</td>\n",
       "      <td>0.000000</td>\n",
       "      <td>-0.022570</td>\n",
       "    </tr>\n",
       "    <tr>\n",
       "      <td>EX_pi_e</td>\n",
       "      <td>0.000000</td>\n",
       "      <td>0.000000</td>\n",
       "    </tr>\n",
       "    <tr>\n",
       "      <td>EX_h_e</td>\n",
       "      <td>8.058201</td>\n",
       "      <td>0.000000</td>\n",
       "    </tr>\n",
       "    <tr>\n",
       "      <td>...</td>\n",
       "      <td>...</td>\n",
       "      <td>...</td>\n",
       "    </tr>\n",
       "    <tr>\n",
       "      <td>prot_Q59385_exchange</td>\n",
       "      <td>0.000000</td>\n",
       "      <td>-0.000000</td>\n",
       "    </tr>\n",
       "    <tr>\n",
       "      <td>prot_Q6BEX0_exchange</td>\n",
       "      <td>0.000000</td>\n",
       "      <td>-0.000000</td>\n",
       "    </tr>\n",
       "    <tr>\n",
       "      <td>prot_Q6BF16_exchange</td>\n",
       "      <td>0.000000</td>\n",
       "      <td>-0.000000</td>\n",
       "    </tr>\n",
       "    <tr>\n",
       "      <td>prot_Q6BF17_exchange</td>\n",
       "      <td>0.000000</td>\n",
       "      <td>-0.000000</td>\n",
       "    </tr>\n",
       "    <tr>\n",
       "      <td>prot_Q93K97_exchange</td>\n",
       "      <td>0.000000</td>\n",
       "      <td>-0.000000</td>\n",
       "    </tr>\n",
       "  </tbody>\n",
       "</table>\n",
       "<p>6083 rows × 2 columns</p>\n",
       "</div>"
      ],
      "text/plain": [
       "<Solution 0.877 at 0x7efe59629780>"
      ]
     },
     "execution_count": 4,
     "metadata": {},
     "output_type": "execute_result"
    }
   ],
   "source": [
    "model.solver.timeout = 15\n",
    "model.optimize()"
   ]
  },
  {
   "cell_type": "code",
   "execution_count": 5,
   "metadata": {},
   "outputs": [
    {
     "data": {
      "text/html": [
       "<strong><em>Optimal</em> solution with objective value 0.877</strong><br><div>\n",
       "<style scoped>\n",
       "    .dataframe tbody tr th:only-of-type {\n",
       "        vertical-align: middle;\n",
       "    }\n",
       "\n",
       "    .dataframe tbody tr th {\n",
       "        vertical-align: top;\n",
       "    }\n",
       "\n",
       "    .dataframe thead th {\n",
       "        text-align: right;\n",
       "    }\n",
       "</style>\n",
       "<table border=\"1\" class=\"dataframe\">\n",
       "  <thead>\n",
       "    <tr style=\"text-align: right;\">\n",
       "      <th></th>\n",
       "      <th>fluxes</th>\n",
       "      <th>reduced_costs</th>\n",
       "    </tr>\n",
       "  </thead>\n",
       "  <tbody>\n",
       "    <tr>\n",
       "      <td>EX_acgam_e</td>\n",
       "      <td>0.000000</td>\n",
       "      <td>-0.282126</td>\n",
       "    </tr>\n",
       "    <tr>\n",
       "      <td>EX_cellb_e</td>\n",
       "      <td>0.000000</td>\n",
       "      <td>-0.361121</td>\n",
       "    </tr>\n",
       "    <tr>\n",
       "      <td>EX_chol_e</td>\n",
       "      <td>0.000000</td>\n",
       "      <td>-0.022570</td>\n",
       "    </tr>\n",
       "    <tr>\n",
       "      <td>EX_pi_e</td>\n",
       "      <td>0.000000</td>\n",
       "      <td>0.000000</td>\n",
       "    </tr>\n",
       "    <tr>\n",
       "      <td>EX_h_e</td>\n",
       "      <td>8.058201</td>\n",
       "      <td>0.000000</td>\n",
       "    </tr>\n",
       "    <tr>\n",
       "      <td>...</td>\n",
       "      <td>...</td>\n",
       "      <td>...</td>\n",
       "    </tr>\n",
       "    <tr>\n",
       "      <td>prot_Q59385_exchange</td>\n",
       "      <td>0.000000</td>\n",
       "      <td>-0.000000</td>\n",
       "    </tr>\n",
       "    <tr>\n",
       "      <td>prot_Q6BEX0_exchange</td>\n",
       "      <td>0.000000</td>\n",
       "      <td>-0.000000</td>\n",
       "    </tr>\n",
       "    <tr>\n",
       "      <td>prot_Q6BF16_exchange</td>\n",
       "      <td>0.000000</td>\n",
       "      <td>-0.000000</td>\n",
       "    </tr>\n",
       "    <tr>\n",
       "      <td>prot_Q6BF17_exchange</td>\n",
       "      <td>0.000000</td>\n",
       "      <td>-0.000000</td>\n",
       "    </tr>\n",
       "    <tr>\n",
       "      <td>prot_Q93K97_exchange</td>\n",
       "      <td>0.000000</td>\n",
       "      <td>-0.000000</td>\n",
       "    </tr>\n",
       "  </tbody>\n",
       "</table>\n",
       "<p>6083 rows × 2 columns</p>\n",
       "</div>"
      ],
      "text/plain": [
       "<Solution 0.877 at 0x7efe5960da20>"
      ]
     },
     "execution_count": 5,
     "metadata": {},
     "output_type": "execute_result"
    }
   ],
   "source": [
    "# Aerobic growth\n",
    "with model as mod:\n",
    "    mod.reactions.EX_o2_e.lower_bound = -10\n",
    "    solution_anaerobic_ec = mod.optimize()\n",
    "solution_anaerobic_ec"
   ]
  },
  {
   "cell_type": "markdown",
   "metadata": {},
   "source": [
    "Since I haven't been capable of making the EC model to work, I'll try now with its yeast counterpart.\n",
    "\n",
    "## 1.1 Testing the ecYeast model in cobrapy\n",
    "Accordingly, the yeast model can be obtained from its [GitHhub repository](https://github.com/SysBioChalmers/ecModels/tree/master/ecYeastGEM/model)."
   ]
  },
  {
   "cell_type": "code",
   "execution_count": 6,
   "metadata": {},
   "outputs": [],
   "source": [
    "! [ ! -f \"ecYeastGEM.xml\" ] && curl -O -L \"https://raw.githubusercontent.com/SysBioChalmers/ecModels/master/ecYeastGEM/model/ecYeastGEM.xml\""
   ]
  },
  {
   "cell_type": "code",
   "execution_count": 7,
   "metadata": {},
   "outputs": [],
   "source": [
    "yeast = cobra.io.read_sbml_model(\"ecYeastGEM.xml\")"
   ]
  },
  {
   "cell_type": "markdown",
   "metadata": {},
   "source": [
    "Let's make the same tests."
   ]
  },
  {
   "cell_type": "code",
   "execution_count": 8,
   "metadata": {},
   "outputs": [
    {
     "data": {
      "text/html": [
       "\n",
       "        <table>\n",
       "            <tr>\n",
       "                <td><strong>Reaction identifier</strong></td><td>r_2111</td>\n",
       "            </tr><tr>\n",
       "                <td><strong>Name</strong></td><td>growth</td>\n",
       "            </tr><tr>\n",
       "                <td><strong>Memory address</strong></td>\n",
       "                <td>0x07efe5cee8940</td>\n",
       "            </tr><tr>\n",
       "                <td><strong>Stoichiometry</strong></td>\n",
       "                <td>\n",
       "                    <p style='text-align:right'>s_0450__91__c__93__ --> </p>\n",
       "                    <p style='text-align:right'>biomass [cytoplasm] --> </p>\n",
       "                </td>\n",
       "            </tr><tr>\n",
       "                <td><strong>GPR</strong></td><td></td>\n",
       "            </tr><tr>\n",
       "                <td><strong>Lower bound</strong></td><td>0.0</td>\n",
       "            </tr><tr>\n",
       "                <td><strong>Upper bound</strong></td><td>inf</td>\n",
       "            </tr>\n",
       "        </table>\n",
       "        "
      ],
      "text/plain": [
       "<Reaction r_2111 at 0x7efe5cee8940>"
      ]
     },
     "execution_count": 8,
     "metadata": {},
     "output_type": "execute_result"
    }
   ],
   "source": [
    "yeast.reactions.r_2111"
   ]
  },
  {
   "cell_type": "code",
   "execution_count": 9,
   "metadata": {},
   "outputs": [
    {
     "data": {
      "text/latex": [
       "$\\displaystyle 1.0 r_{2111} - 1.0 r_{2111 reverse 58b69}$"
      ],
      "text/plain": [
       "1.0*r_2111 - 1.0*r_2111_reverse_58b69"
      ]
     },
     "execution_count": 9,
     "metadata": {},
     "output_type": "execute_result"
    }
   ],
   "source": [
    "yeast.objective.expression"
   ]
  },
  {
   "cell_type": "code",
   "execution_count": 10,
   "metadata": {},
   "outputs": [
    {
     "data": {
      "text/html": [
       "<strong><em>Optimal</em> solution with objective value 0.088</strong><br><div>\n",
       "<style scoped>\n",
       "    .dataframe tbody tr th:only-of-type {\n",
       "        vertical-align: middle;\n",
       "    }\n",
       "\n",
       "    .dataframe tbody tr th {\n",
       "        vertical-align: top;\n",
       "    }\n",
       "\n",
       "    .dataframe thead th {\n",
       "        text-align: right;\n",
       "    }\n",
       "</style>\n",
       "<table border=\"1\" class=\"dataframe\">\n",
       "  <thead>\n",
       "    <tr style=\"text-align: right;\">\n",
       "      <th></th>\n",
       "      <th>fluxes</th>\n",
       "      <th>reduced_costs</th>\n",
       "    </tr>\n",
       "  </thead>\n",
       "  <tbody>\n",
       "    <tr>\n",
       "      <td>r_0006</td>\n",
       "      <td>0.022002</td>\n",
       "      <td>0.000000</td>\n",
       "    </tr>\n",
       "    <tr>\n",
       "      <td>r_0070</td>\n",
       "      <td>0.000000</td>\n",
       "      <td>0.000000</td>\n",
       "    </tr>\n",
       "    <tr>\n",
       "      <td>r_0094</td>\n",
       "      <td>0.000000</td>\n",
       "      <td>0.000000</td>\n",
       "    </tr>\n",
       "    <tr>\n",
       "      <td>r_0099</td>\n",
       "      <td>0.000000</td>\n",
       "      <td>0.000000</td>\n",
       "    </tr>\n",
       "    <tr>\n",
       "      <td>r_0200</td>\n",
       "      <td>0.000000</td>\n",
       "      <td>-0.041053</td>\n",
       "    </tr>\n",
       "    <tr>\n",
       "      <td>...</td>\n",
       "      <td>...</td>\n",
       "      <td>...</td>\n",
       "    </tr>\n",
       "    <tr>\n",
       "      <td>prot_Q99190_exchange</td>\n",
       "      <td>0.000000</td>\n",
       "      <td>-0.000000</td>\n",
       "    </tr>\n",
       "    <tr>\n",
       "      <td>prot_Q99258_exchange</td>\n",
       "      <td>0.000000</td>\n",
       "      <td>-0.000000</td>\n",
       "    </tr>\n",
       "    <tr>\n",
       "      <td>prot_Q99288_exchange</td>\n",
       "      <td>0.000000</td>\n",
       "      <td>-0.000000</td>\n",
       "    </tr>\n",
       "    <tr>\n",
       "      <td>prot_Q99312_exchange</td>\n",
       "      <td>0.000000</td>\n",
       "      <td>0.000000</td>\n",
       "    </tr>\n",
       "    <tr>\n",
       "      <td>prot_Q99321_exchange</td>\n",
       "      <td>0.000000</td>\n",
       "      <td>-0.000000</td>\n",
       "    </tr>\n",
       "  </tbody>\n",
       "</table>\n",
       "<p>8143 rows × 2 columns</p>\n",
       "</div>"
      ],
      "text/plain": [
       "<Solution 0.088 at 0x7efe920cda20>"
      ]
     },
     "execution_count": 10,
     "metadata": {},
     "output_type": "execute_result"
    }
   ],
   "source": [
    "yeast.solver.timeout = 10\n",
    "yeast.optimize()"
   ]
  },
  {
   "cell_type": "code",
   "execution_count": 11,
   "metadata": {},
   "outputs": [
    {
     "data": {
      "text/html": [
       "<strong><em>Optimal</em> solution with objective value 0.088</strong><br><div>\n",
       "<style scoped>\n",
       "    .dataframe tbody tr th:only-of-type {\n",
       "        vertical-align: middle;\n",
       "    }\n",
       "\n",
       "    .dataframe tbody tr th {\n",
       "        vertical-align: top;\n",
       "    }\n",
       "\n",
       "    .dataframe thead th {\n",
       "        text-align: right;\n",
       "    }\n",
       "</style>\n",
       "<table border=\"1\" class=\"dataframe\">\n",
       "  <thead>\n",
       "    <tr style=\"text-align: right;\">\n",
       "      <th></th>\n",
       "      <th>fluxes</th>\n",
       "      <th>reduced_costs</th>\n",
       "    </tr>\n",
       "  </thead>\n",
       "  <tbody>\n",
       "    <tr>\n",
       "      <td>r_0006</td>\n",
       "      <td>0.022002</td>\n",
       "      <td>0.000000</td>\n",
       "    </tr>\n",
       "    <tr>\n",
       "      <td>r_0070</td>\n",
       "      <td>0.000000</td>\n",
       "      <td>0.000000</td>\n",
       "    </tr>\n",
       "    <tr>\n",
       "      <td>r_0094</td>\n",
       "      <td>0.000000</td>\n",
       "      <td>0.000000</td>\n",
       "    </tr>\n",
       "    <tr>\n",
       "      <td>r_0099</td>\n",
       "      <td>0.000000</td>\n",
       "      <td>0.000000</td>\n",
       "    </tr>\n",
       "    <tr>\n",
       "      <td>r_0200</td>\n",
       "      <td>0.000000</td>\n",
       "      <td>-0.041053</td>\n",
       "    </tr>\n",
       "    <tr>\n",
       "      <td>...</td>\n",
       "      <td>...</td>\n",
       "      <td>...</td>\n",
       "    </tr>\n",
       "    <tr>\n",
       "      <td>prot_Q99190_exchange</td>\n",
       "      <td>0.000000</td>\n",
       "      <td>-0.000000</td>\n",
       "    </tr>\n",
       "    <tr>\n",
       "      <td>prot_Q99258_exchange</td>\n",
       "      <td>0.000000</td>\n",
       "      <td>-0.000000</td>\n",
       "    </tr>\n",
       "    <tr>\n",
       "      <td>prot_Q99288_exchange</td>\n",
       "      <td>0.000000</td>\n",
       "      <td>-0.000000</td>\n",
       "    </tr>\n",
       "    <tr>\n",
       "      <td>prot_Q99312_exchange</td>\n",
       "      <td>0.000000</td>\n",
       "      <td>0.000000</td>\n",
       "    </tr>\n",
       "    <tr>\n",
       "      <td>prot_Q99321_exchange</td>\n",
       "      <td>0.000000</td>\n",
       "      <td>-0.000000</td>\n",
       "    </tr>\n",
       "  </tbody>\n",
       "</table>\n",
       "<p>8143 rows × 2 columns</p>\n",
       "</div>"
      ],
      "text/plain": [
       "<Solution 0.088 at 0x7efe920d2828>"
      ]
     },
     "execution_count": 11,
     "metadata": {},
     "output_type": "execute_result"
    }
   ],
   "source": [
    "id_o2 = yeast.exchanges.query('oxygen exchange', 'name')[0].id\n",
    "# anaerobic growth\n",
    "yeast.reactions.get_by_id('r_1992').bounds = 0,0\n",
    "yeast.optimize()"
   ]
  },
  {
   "cell_type": "code",
   "execution_count": 12,
   "metadata": {},
   "outputs": [],
   "source": [
    "import math\n",
    "\n",
    "# this was proven to be unnecessary \n",
    "for reac in yeast.reactions:\n",
    "    if math.isinf(reac.upper_bound):\n",
    "        reac.upper_bound = 1000"
   ]
  },
  {
   "cell_type": "markdown",
   "metadata": {},
   "source": [
    "## 2. Functions to integrate the model in `adapter.py`\n",
    "\n",
    "This functions are called in the order they appear in the file. They are thought to be consistent with the fluxomics implementation."
   ]
  },
  {
   "cell_type": "code",
   "execution_count": 13,
   "metadata": {},
   "outputs": [],
   "source": [
    "import pandas as pd\n",
    "import re\n",
    "from math import isnan\n",
    "\n",
    "prot_pat = re.compile(r'prot_([A-Za-z0-9]+)__91__c__93__')\n",
    "\n",
    "def flexibilize_proteomics(model, biomass_reaction, growth_rate, proteomics):\n",
    "    \"\"\"\n",
    "    Replace proteomics measurements with the set of proteomics measures that enables\n",
    "    the model to achieve growth.\n",
    "\n",
    "    Proteins are removed from the set iteratively based on sensitivity analysis.\n",
    "\n",
    "    Parameters\n",
    "    ----------\n",
    "    model: cobra.Model\n",
    "    biomass_reaction: str\n",
    "        The id of the biomass reaction in the goperationsiven model.\n",
    "    proteomics: list(dict)\n",
    "        List of measurements matching the `Proteomics` schema.\n",
    "    growth_rate: dict\n",
    "        Growth rate, matching the `GrowthRate` schema.\n",
    "\n",
    "    Returns\n",
    "    -------\n",
    "    growth_rate: dict\n",
    "    proteomics: list(dict)\n",
    "    \"\"\"\n",
    "    # TODO: this whole thing about growth rate could be refactored, since it's exactly\n",
    "    # the same as in `minimize_distance`\n",
    "    if not growth_rate:\n",
    "        raise ValueError(\n",
    "            \"Expected measurements to contain an objective \"\n",
    "            \"constraint as measured growth rate\"\n",
    "        )\n",
    "\n",
    "    if growth_rate[\"uncertainty\"]:\n",
    "        lower_bound = growth_rate[\"measurement\"] - growth_rate[\"uncertainty\"]\n",
    "        upper_bound = growth_rate[\"measurement\"] + growth_rate[\"uncertainty\"]\n",
    "    else:\n",
    "        lower_bound = growth_rate[\"measurement\"]\n",
    "        upper_bound = growth_rate[\"measurement\"]\n",
    "\n",
    "    model.reactions.get_by_id(biomass_reaction).bounds = (lower_bound, upper_bound)\n",
    "    \n",
    "    index, observations = [], []\n",
    "    \n",
    "    for measure in proteomics:\n",
    "        index.append(measure[\"identifier\"])\n",
    "        # in protein data, upper_bound is the unique constraint, so it contains the uncertainty\n",
    "        observations.append(measure[\"measurement\"] + measure[\"uncertainty\"])\n",
    "\n",
    "    observations = pd.Series(index=index, data=observations)\n",
    "\n",
    "    solution, new_growth_rate = ensure_proteomics_growing(model, observations)\n",
    "    if new_growth_rate:\n",
    "        growth_rate[\"measurement\"] = new_growth_rate\n",
    "    for reaction, new_measurement in solution.iteritems():\n",
    "        for measure in proteomics:\n",
    "            if reaction == measure.get(\"identifier\"):\n",
    "                measure[\"measurement\"] = new_measurement\n",
    "                measure[\"uncertainty\"] = 0  # TODO: Confirm that this is correct\n",
    "    return growth_rate, proteomics\n",
    "\n",
    "\n",
    "def limit_proteins(model, measured_mmolgdw):\n",
    "    \"\"\"Apply proteomics measurements to model.\n",
    "\n",
    "    Apply measurements in the form of measured proteins.\n",
    "\n",
    "    Parameters\n",
    "    ----------\n",
    "    model: cobra.Model\n",
    "    measured_mmolgdw : pd.Series\n",
    "        Protein abundances in g / gDW\n",
    "\n",
    "    References\n",
    "    ----------\n",
    "    .. [1] Benjamin J. Sanchez, Cheng Zhang, Avlant Nilsson, Petri-Jaan Lahtvee, Eduard J. Kerkhoven, Jens Nielsen (\n",
    "       2017). Improving the phenotype predictions of a yeast genome-scale metabolic model by incorporating enzymatic\n",
    "       constraints. [Molecular Systems Biology, 13(8): 935, http://www.dx.doi.org/10.15252/msb.20167411\n",
    "    \"\"\"\n",
    "    # update upper_bound\n",
    "    for protein_id, measure in measured_mmolgdw.iteritems():\n",
    "        try:\n",
    "            rxn = model.reactions.get_by_id(\"prot_{}_exchange\".format(protein_id))\n",
    "            rxn.annotation[\"uniprot\"] = protein_id\n",
    "        except KeyError:\n",
    "            pass\n",
    "        else:\n",
    "            rxn.bounds = 0, measure\n",
    "    # flexibilize proteomics so model grows\n",
    "    return\n",
    "\n",
    "\n",
    "def ensure_proteomics_growing(model, measured_mmolgdw):\n",
    "    \"\"\"\n",
    "    Optimize the model and flexiblize proteins until it grows\n",
    "\n",
    "    Parameters\n",
    "    ----------\n",
    "    model: cobra.Model\n",
    "    measured_mmolgdw: pd.Series\n",
    "        Protein abundances in mmol / gDW\n",
    "\n",
    "    Returns\n",
    "    -------\n",
    "    measured_mmolgdw: list(dict)\n",
    "    obj_value: float. False if it wasn't changed\n",
    "    \"\"\"\n",
    "    # first, get shadow prices of the unconstrained model\n",
    "    solution = model.optimize()\n",
    "    ordered_proteins = list(\n",
    "        top_protein_shadow_prices(\n",
    "            solution, measured_mmolgdw.index, len(measured_mmolgdw)\n",
    "        ).index\n",
    "    )\n",
    "    # second, constrain the model\n",
    "    with model as mod:\n",
    "        limit_proteins(mod, measured_mmolgdw)\n",
    "        obj_value = mod.slim_optimize()\n",
    "    tolerance = 1e-7\n",
    "    obj_value = False if math.isnan(obj_value) else obj_value\n",
    "\n",
    "    # while the model can't grow, unconstrain the protein with the higher shadow price\n",
    "    while obj_value < tolerance and not measured_mmolgdw.empty:\n",
    "        uniprot_id = re.sub(prot_pat, r\"\\1\", ordered_proteins[0])\n",
    "        if uniprot_id in measured_mmolgdw:\n",
    "            del measured_mmolgdw[uniprot_id]\n",
    "        ordered_proteins.pop(0)\n",
    "        with model as mod:\n",
    "            # this can be changed to simply affect the upper_bound\n",
    "            # but this way is more clear\n",
    "            limit_proteins(mod, measured_mmolgdw)\n",
    "            obj_value = mod.slim_optimize()\n",
    "        obj_value = False if math.isnan(obj_value) else obj_value\n",
    "\n",
    "    return measured_mmolgdw, obj_value\n",
    "\n",
    "def top_protein_shadow_prices(model_solution, set_proteins, top=1):\n",
    "    \"\"\"\n",
    "    Retrieves `top` of proteins in `set_proteins` in terms of influence in the objective\n",
    "    function (shadow prices).\n",
    "\n",
    "    Parameters\n",
    "    ----------\n",
    "    model_solution: cobra.Solution\n",
    "        the usual Solution object returned by model.optimize()\n",
    "    set_proteins: iterable of strings\n",
    "        Uniprot IDs of the proteins in measurements\n",
    "    top: int\n",
    "        the number of proteins to be returned\n",
    "    \"\"\"\n",
    "    set_as_metabolites = {\"prot_{}__91__c__93__\".format(prot) for prot in set_proteins}\n",
    "    shadow_pr = model_solution.shadow_prices\n",
    "    return shadow_pr.loc[shadow_pr.index.isin(set_as_metabolites)].sort_values()[:top]"
   ]
  },
  {
   "cell_type": "markdown",
   "metadata": {},
   "source": [
    "Also, as noted in the functions above, we need a new class included on the `schemas.py` file."
   ]
  },
  {
   "cell_type": "code",
   "execution_count": 14,
   "metadata": {},
   "outputs": [],
   "source": [
    "from marshmallow import Schema, fields\n",
    "\n",
    "class Proteomics(Schema):\n",
    "    identifier = fields.String(required=True)  # protein UniProt code\n",
    "    measurement = fields.Float(required=True)\n",
    "    uncertainty = fields.Float(required=True)\n",
    "    \n",
    "class GrowthRate(Schema):\n",
    "    measurement = fields.Float(required=True)\n",
    "    uncertainty = fields.Float(required=True)"
   ]
  },
  {
   "cell_type": "markdown",
   "metadata": {},
   "source": [
    "## 3. Test of the functions\n",
    "\n",
    "An `apply_measurements`-like function to see if it works."
   ]
  },
  {
   "cell_type": "code",
   "execution_count": 15,
   "metadata": {},
   "outputs": [],
   "source": [
    "from cobra.io.dict import reaction_to_dict\n",
    "\n",
    "\n",
    "def apply_measurements(\n",
    "    model,\n",
    "    biomass_reaction,\n",
    "    proteomics,\n",
    "    growth_rate,\n",
    "):\n",
    "    \"\"\"\n",
    "    Apply omics measurements to a metabolic model.\n",
    "\n",
    "    For each measured flux (production-rate / uptake-rate), constrain the model\n",
    "    by forcing their upper and lower bounds to the measured values.\n",
    "\n",
    "    Parameters\n",
    "    ----------\n",
    "    model: cobra.Model\n",
    "    biomass_reaction: str\n",
    "        The id of the biomass reaction in the given model.\n",
    "    fluproteomicsxomics: list(dict)\n",
    "        List of measurements matching the `Proteomics` schema.\n",
    "    growth_rate: dict\n",
    "        Growth rate, matching the `GrowthRate` schema.\n",
    "\n",
    "    Returns\n",
    "    -------\n",
    "    tuple (operations, warnings, errors)\n",
    "        Operations is a list of model operations necessary to apply the\n",
    "        measurements to the model. See also the `Operations` schema.\n",
    "        Warnings is a list of human-readable strings of potential issues.\n",
    "        If errors is not an empty list, it was not possible to apply the\n",
    "        measurements.\n",
    "        Errors then contains a list of string messages describing the\n",
    "        problem(s).\n",
    "    \"\"\"\n",
    "    operations = []\n",
    "    warnings = []\n",
    "    errors = []\n",
    "\n",
    "    def bounds(measurement, uncertainty):\n",
    "        \"\"\"Return resolved bounds based on measurement and uncertainty\"\"\"\n",
    "        if uncertainty:\n",
    "            return (measurement - uncertainty, measurement + uncertainty)\n",
    "        else:\n",
    "            return (measurement, measurement)\n",
    "    # The proteomics are added only if we have an enzyme constraint model.\n",
    "    # TODO: check if ecModel before applying proteomics. It should be notified in user-interface.\n",
    "    if growth_rate:\n",
    "        growth_rate, proteomics = flexibilize_proteomics(\n",
    "            model, biomass_reaction, growth_rate, proteomics\n",
    "        )\n",
    "\n",
    "    # Constrain the model with the observed growth rate\n",
    "    if growth_rate:\n",
    "        reaction = model.reactions.get_by_id(biomass_reaction)\n",
    "        reaction.bounds = bounds(growth_rate[\"measurement\"], growth_rate[\"uncertainty\"])\n",
    "        operations.append(\n",
    "            {\n",
    "                \"operation\": \"modify\",\n",
    "                \"type\": \"reaction\",\n",
    "                \"id\": reaction.id,\n",
    "                \"data\": reaction_to_dict(reaction),\n",
    "            }\n",
    "        )\n",
    "    \n",
    "    LB = 0 # for all protein_exchanges\n",
    "    for measure in proteomics:\n",
    "        try:\n",
    "            reaction = model.reactions.get_by_id(\"prot_{}_exchange\".format(measure[\"identifier\"]))\n",
    "        except KeyError:\n",
    "            errors.append(\n",
    "                f\"Cannot find reaction '{measure['identifier']}' in the model\"\n",
    "            )\n",
    "        else:\n",
    "            # uncertainty was taken into account in the upper bounds in `flexibilize_proteomics`\n",
    "            reaction.bounds = LB, measure[\"measurement\"]\n",
    "            operations.append(\n",
    "                {\n",
    "                    \"operation\": \"modify\",\n",
    "                    \"type\": \"reaction\",\n",
    "                    \"id\": reaction.id,\n",
    "                    \"data\": reaction_to_dict(reaction)\n",
    "                }\n",
    "            )\n",
    "    return operations, warnings, errors"
   ]
  },
  {
   "cell_type": "markdown",
   "metadata": {},
   "source": [
    "### 3.1. E. coli_ model\n",
    "First, prepare random data to act as measurements for measurements."
   ]
  },
  {
   "cell_type": "code",
   "execution_count": 16,
   "metadata": {},
   "outputs": [
    {
     "data": {
      "text/plain": [
       "{'P04693': 0.01, 'P0A836': 0.01, 'P0A9P9': 0.01}"
      ]
     },
     "execution_count": 16,
     "metadata": {},
     "output_type": "execute_result"
    }
   ],
   "source": [
    "from random import choices\n",
    "\n",
    "prot_exchanges = [reac for reac in model.reactions if reac.id.startswith(\"prot_\") and not reac.id.endswith(\"REV\")]\n",
    "picked_proteins = {reac.id[5:-9]: 0.01 for reac in choices(prot_exchanges, k=3)}\n",
    "picked_proteins"
   ]
  },
  {
   "cell_type": "code",
   "execution_count": 17,
   "metadata": {},
   "outputs": [
    {
     "data": {
      "text/plain": [
       "[{'measurement': 0.01, 'uncertainty': 0.0001, 'identifier': 'P04693'},\n",
       " {'measurement': 0.01, 'uncertainty': 0.0001, 'identifier': 'P0A836'},\n",
       " {'measurement': 0.01, 'uncertainty': 0.0001, 'identifier': 'P0A9P9'}]"
      ]
     },
     "execution_count": 17,
     "metadata": {},
     "output_type": "execute_result"
    }
   ],
   "source": [
    "proteomics = []\n",
    "prot_schema = Proteomics()\n",
    "proteomics = [prot_schema.dump(dict(identifier = idx, measurement=val, uncertainty = 0.0001))\n",
    "              for idx, val in picked_proteins.items()]\n",
    "proteomics"
   ]
  },
  {
   "cell_type": "code",
   "execution_count": 18,
   "metadata": {},
   "outputs": [
    {
     "data": {
      "text/plain": [
       "{'uncertainty': 0.0001, 'measurement': 0.87}"
      ]
     },
     "execution_count": 18,
     "metadata": {},
     "output_type": "execute_result"
    }
   ],
   "source": [
    "growth_rate = GrowthRate().dump(dict(measurement=0.87, uncertainty=0.0001))\n",
    "growth_rate"
   ]
  },
  {
   "cell_type": "code",
   "execution_count": 19,
   "metadata": {},
   "outputs": [
    {
     "name": "stdout",
     "output_type": "stream",
     "text": [
      "([{'operation': 'modify', 'type': 'reaction', 'id': 'BIOMASS_Ec_iML1515_core_75p37M', 'data': OrderedDict([('id', 'BIOMASS_Ec_iML1515_core_75p37M'), ('name', 'biomass pseudoreaction'), ('metabolites', OrderedDict([('10fthf_c__91__c__93__', -0.000223), ('2fe2s_c__91__c__93__', -2.6e-05), ('2ohph_c__91__c__93__', -0.000223), ('4fe4s_c__91__c__93__', -0.00026), ('adp_c__91__c__93__', 75.3772), ('ala__L_c__91__c__93__', -0.513689), ('amet_c__91__c__93__', -0.000223), ('arg__L_c__91__c__93__', -0.295792), ('asn__L_c__91__c__93__', -0.241055), ('asp__L_c__91__c__93__', -0.241055), ('atp_c__91__c__93__', -75.5522), ('btn_c__91__c__93__', -2e-06), ('ca2_c__91__c__93__', -0.005205), ('cl_c__91__c__93__', -0.005205), ('coa_c__91__c__93__', -0.000576), ('cobalt2_c__91__c__93__', -2.5e-05), ('ctp_c__91__c__93__', -0.133508), ('cu2_c__91__c__93__', -0.000709), ('cys__L_c__91__c__93__', -0.09158), ('datp_c__91__c__93__', -0.026166), ('dctp_c__91__c__93__', -0.027017), ('dgtp_c__91__c__93__', -0.027017), ('dttp_c__91__c__93__', -0.026166), ('fad_c__91__c__93__', -0.000223), ('fe2_c__91__c__93__', -0.006715), ('fe3_c__91__c__93__', -0.007808), ('gln__L_c__91__c__93__', -0.26316), ('glu__L_c__91__c__93__', -0.26316), ('gly_c__91__c__93__', -0.612638), ('gtp_c__91__c__93__', -0.215096), ('h2o_c__91__c__93__', -70.0288), ('h_c__91__c__93__', 75.3772), ('his__L_c__91__c__93__', -0.094738), ('ile__L_c__91__c__93__', -0.290529), ('k_c__91__c__93__', -0.195193), ('kdo2lipid4_e__91__e__93__', -0.019456), ('leu__L_c__91__c__93__', -0.450531), ('lys__L_c__91__c__93__', -0.343161), ('met__L_c__91__c__93__', -0.153686), ('mg2_c__91__c__93__', -0.008675), ('mlthf_c__91__c__93__', -0.000223), ('mn2_c__91__c__93__', -0.000691), ('mobd_c__91__c__93__', -7e-06), ('murein5px4p_p__91__p__93__', -0.013894), ('nad_c__91__c__93__', -0.001831), ('nadp_c__91__c__93__', -0.000447), ('nh4_c__91__c__93__', -0.013013), ('ni2_c__91__c__93__', -0.000323), ('pe160_p__91__p__93__', -0.063814), ('pe161_p__91__p__93__', -0.075214), ('phe__L_c__91__c__93__', -0.185265), ('pheme_c__91__c__93__', -0.000223), ('pi_c__91__c__93__', 75.3732), ('ppi_c__91__c__93__', 0.773903), ('pro__L_c__91__c__93__', -0.221055), ('pydx5p_c__91__c__93__', -0.000223), ('ribflv_c__91__c__93__', -0.000223), ('ser__L_c__91__c__93__', -0.215792), ('sheme_c__91__c__93__', -0.000223), ('so4_c__91__c__93__', -0.004338), ('succoa_c__91__c__93__', -9.8e-05), ('thf_c__91__c__93__', -0.000223), ('thmpp_c__91__c__93__', -0.000223), ('thr__L_c__91__c__93__', -0.253687), ('trp__L_c__91__c__93__', -0.056843), ('tyr__L_c__91__c__93__', -0.137896), ('udcpdp_c__91__c__93__', -5.5e-05), ('utp_c__91__c__93__', -0.144104), ('val__L_c__91__c__93__', -0.423162), ('zn2_c__91__c__93__', -0.000341)])), ('lower_bound', 0.87), ('upper_bound', 0.8702), ('gene_reaction_rule', ''), ('objective_coefficient', 1.0)])}, {'operation': 'modify', 'type': 'reaction', 'id': 'prot_P04693_exchange', 'data': OrderedDict([('id', 'prot_P04693_exchange'), ('name', 'prot_P04693_exchange'), ('metabolites', OrderedDict([('prot_P04693__91__c__93__', 1.0)])), ('lower_bound', 0), ('upper_bound', 0.0101), ('gene_reaction_rule', 'b4054'), ('annotation', OrderedDict([('uniprot', 'P04693')]))])}, {'operation': 'modify', 'type': 'reaction', 'id': 'prot_P0A836_exchange', 'data': OrderedDict([('id', 'prot_P0A836_exchange'), ('name', 'prot_P0A836_exchange'), ('metabolites', OrderedDict([('prot_P0A836__91__c__93__', 1.0)])), ('lower_bound', 0), ('upper_bound', 0.0101), ('gene_reaction_rule', 'b0728'), ('annotation', OrderedDict([('uniprot', 'P0A836')]))])}, {'operation': 'modify', 'type': 'reaction', 'id': 'prot_P0A9P9_exchange', 'data': OrderedDict([('id', 'prot_P0A9P9_exchange'), ('name', 'prot_P0A9P9_exchange'), ('metabolites', OrderedDict([('prot_P0A9P9__91__c__93__', 1.0)])), ('lower_bound', 0), ('upper_bound', 0.0101), ('gene_reaction_rule', 'b4266'), ('annotation', OrderedDict([('uniprot', 'P0A9P9')]))])}], [], [])\n"
     ]
    }
   ],
   "source": [
    "with model as mod:\n",
    "    print(apply_measurements(mod, 'BIOMASS_Ec_iML1515_core_75p37M', proteomics, growth_rate))"
   ]
  },
  {
   "cell_type": "markdown",
   "metadata": {},
   "source": [
    "The last thing we want to check is to solve the same test but now with one essential protein set to 0."
   ]
  },
  {
   "cell_type": "code",
   "execution_count": 20,
   "metadata": {},
   "outputs": [
    {
     "data": {
      "text/plain": [
       "([{'operation': 'modify',\n",
       "   'type': 'reaction',\n",
       "   'id': 'BIOMASS_Ec_iML1515_core_75p37M',\n",
       "   'data': OrderedDict([('id', 'BIOMASS_Ec_iML1515_core_75p37M'),\n",
       "                ('name', 'biomass pseudoreaction'),\n",
       "                ('metabolites',\n",
       "                 OrderedDict([('10fthf_c__91__c__93__', -0.000223),\n",
       "                              ('2fe2s_c__91__c__93__', -2.6e-05),\n",
       "                              ('2ohph_c__91__c__93__', -0.000223),\n",
       "                              ('4fe4s_c__91__c__93__', -0.00026),\n",
       "                              ('adp_c__91__c__93__', 75.3772),\n",
       "                              ('ala__L_c__91__c__93__', -0.513689),\n",
       "                              ('amet_c__91__c__93__', -0.000223),\n",
       "                              ('arg__L_c__91__c__93__', -0.295792),\n",
       "                              ('asn__L_c__91__c__93__', -0.241055),\n",
       "                              ('asp__L_c__91__c__93__', -0.241055),\n",
       "                              ('atp_c__91__c__93__', -75.5522),\n",
       "                              ('btn_c__91__c__93__', -2e-06),\n",
       "                              ('ca2_c__91__c__93__', -0.005205),\n",
       "                              ('cl_c__91__c__93__', -0.005205),\n",
       "                              ('coa_c__91__c__93__', -0.000576),\n",
       "                              ('cobalt2_c__91__c__93__', -2.5e-05),\n",
       "                              ('ctp_c__91__c__93__', -0.133508),\n",
       "                              ('cu2_c__91__c__93__', -0.000709),\n",
       "                              ('cys__L_c__91__c__93__', -0.09158),\n",
       "                              ('datp_c__91__c__93__', -0.026166),\n",
       "                              ('dctp_c__91__c__93__', -0.027017),\n",
       "                              ('dgtp_c__91__c__93__', -0.027017),\n",
       "                              ('dttp_c__91__c__93__', -0.026166),\n",
       "                              ('fad_c__91__c__93__', -0.000223),\n",
       "                              ('fe2_c__91__c__93__', -0.006715),\n",
       "                              ('fe3_c__91__c__93__', -0.007808),\n",
       "                              ('gln__L_c__91__c__93__', -0.26316),\n",
       "                              ('glu__L_c__91__c__93__', -0.26316),\n",
       "                              ('gly_c__91__c__93__', -0.612638),\n",
       "                              ('gtp_c__91__c__93__', -0.215096),\n",
       "                              ('h2o_c__91__c__93__', -70.0288),\n",
       "                              ('h_c__91__c__93__', 75.3772),\n",
       "                              ('his__L_c__91__c__93__', -0.094738),\n",
       "                              ('ile__L_c__91__c__93__', -0.290529),\n",
       "                              ('k_c__91__c__93__', -0.195193),\n",
       "                              ('kdo2lipid4_e__91__e__93__', -0.019456),\n",
       "                              ('leu__L_c__91__c__93__', -0.450531),\n",
       "                              ('lys__L_c__91__c__93__', -0.343161),\n",
       "                              ('met__L_c__91__c__93__', -0.153686),\n",
       "                              ('mg2_c__91__c__93__', -0.008675),\n",
       "                              ('mlthf_c__91__c__93__', -0.000223),\n",
       "                              ('mn2_c__91__c__93__', -0.000691),\n",
       "                              ('mobd_c__91__c__93__', -7e-06),\n",
       "                              ('murein5px4p_p__91__p__93__', -0.013894),\n",
       "                              ('nad_c__91__c__93__', -0.001831),\n",
       "                              ('nadp_c__91__c__93__', -0.000447),\n",
       "                              ('nh4_c__91__c__93__', -0.013013),\n",
       "                              ('ni2_c__91__c__93__', -0.000323),\n",
       "                              ('pe160_p__91__p__93__', -0.063814),\n",
       "                              ('pe161_p__91__p__93__', -0.075214),\n",
       "                              ('phe__L_c__91__c__93__', -0.185265),\n",
       "                              ('pheme_c__91__c__93__', -0.000223),\n",
       "                              ('pi_c__91__c__93__', 75.3732),\n",
       "                              ('ppi_c__91__c__93__', 0.773903),\n",
       "                              ('pro__L_c__91__c__93__', -0.221055),\n",
       "                              ('pydx5p_c__91__c__93__', -0.000223),\n",
       "                              ('ribflv_c__91__c__93__', -0.000223),\n",
       "                              ('ser__L_c__91__c__93__', -0.215792),\n",
       "                              ('sheme_c__91__c__93__', -0.000223),\n",
       "                              ('so4_c__91__c__93__', -0.004338),\n",
       "                              ('succoa_c__91__c__93__', -9.8e-05),\n",
       "                              ('thf_c__91__c__93__', -0.000223),\n",
       "                              ('thmpp_c__91__c__93__', -0.000223),\n",
       "                              ('thr__L_c__91__c__93__', -0.253687),\n",
       "                              ('trp__L_c__91__c__93__', -0.056843),\n",
       "                              ('tyr__L_c__91__c__93__', -0.137896),\n",
       "                              ('udcpdp_c__91__c__93__', -5.5e-05),\n",
       "                              ('utp_c__91__c__93__', -0.144104),\n",
       "                              ('val__L_c__91__c__93__', -0.423162),\n",
       "                              ('zn2_c__91__c__93__', -0.000341)])),\n",
       "                ('lower_bound', 0.8701),\n",
       "                ('upper_bound', 0.8703),\n",
       "                ('gene_reaction_rule', ''),\n",
       "                ('objective_coefficient', 1.0)])},\n",
       "  {'operation': 'modify',\n",
       "   'type': 'reaction',\n",
       "   'id': 'prot_P04693_exchange',\n",
       "   'data': OrderedDict([('id', 'prot_P04693_exchange'),\n",
       "                ('name', 'prot_P04693_exchange'),\n",
       "                ('metabolites',\n",
       "                 OrderedDict([('prot_P04693__91__c__93__', 1.0)])),\n",
       "                ('lower_bound', 0),\n",
       "                ('upper_bound', 0.0101),\n",
       "                ('gene_reaction_rule', 'b4054'),\n",
       "                ('annotation', OrderedDict([('uniprot', 'P04693')]))])},\n",
       "  {'operation': 'modify',\n",
       "   'type': 'reaction',\n",
       "   'id': 'prot_P0A836_exchange',\n",
       "   'data': OrderedDict([('id', 'prot_P0A836_exchange'),\n",
       "                ('name', 'prot_P0A836_exchange'),\n",
       "                ('metabolites',\n",
       "                 OrderedDict([('prot_P0A836__91__c__93__', 1.0)])),\n",
       "                ('lower_bound', 0),\n",
       "                ('upper_bound', 0.0101),\n",
       "                ('gene_reaction_rule', 'b0728'),\n",
       "                ('annotation', OrderedDict([('uniprot', 'P0A836')]))])},\n",
       "  {'operation': 'modify',\n",
       "   'type': 'reaction',\n",
       "   'id': 'prot_P0A9P9_exchange',\n",
       "   'data': OrderedDict([('id', 'prot_P0A9P9_exchange'),\n",
       "                ('name', 'prot_P0A9P9_exchange'),\n",
       "                ('metabolites',\n",
       "                 OrderedDict([('prot_P0A9P9__91__c__93__', 1.0)])),\n",
       "                ('lower_bound', 0),\n",
       "                ('upper_bound', 0.0101),\n",
       "                ('gene_reaction_rule', 'b4266'),\n",
       "                ('annotation', OrderedDict([('uniprot', 'P0A9P9')]))])},\n",
       "  {'operation': 'modify',\n",
       "   'type': 'reaction',\n",
       "   'id': 'prot_O32583_exchange',\n",
       "   'data': OrderedDict([('id', 'prot_O32583_exchange'),\n",
       "                ('name', 'prot_O32583_exchange'),\n",
       "                ('metabolites',\n",
       "                 OrderedDict([('prot_O32583__91__c__93__', 1.0)])),\n",
       "                ('lower_bound', 0),\n",
       "                ('upper_bound', 0.0),\n",
       "                ('gene_reaction_rule', 'b4407'),\n",
       "                ('annotation', OrderedDict([('uniprot', 'O32583')]))])}],\n",
       " [],\n",
       " [])"
      ]
     },
     "execution_count": 20,
     "metadata": {},
     "output_type": "execute_result"
    }
   ],
   "source": [
    "model.solver.timeout = 10 # enough\n",
    "# essential protein to 0\n",
    "proteomics.append(prot_schema.dump(dict(identifier = 'O32583', measurement=0, uncertainty = 0.0)))\n",
    "apply_measurements(mod, 'BIOMASS_Ec_iML1515_core_75p37M', proteomics, growth_rate)"
   ]
  },
  {
   "cell_type": "markdown",
   "metadata": {},
   "source": [
    "### 3.2. Yeast model\n",
    "\n",
    "First, prepare the proteomics and growth rate measurements"
   ]
  },
  {
   "cell_type": "code",
   "execution_count": 21,
   "metadata": {},
   "outputs": [
    {
     "name": "stdout",
     "output_type": "stream",
     "text": [
      "[{'measurement': 0.01, 'uncertainty': 0.0001, 'identifier': 'P00549'}, {'measurement': 0.01, 'uncertainty': 0.0001, 'identifier': 'P31373'}, {'measurement': 0.011, 'uncertainty': 0.0001, 'identifier': 'P31382'}]\n",
      "\n",
      " {'uncertainty': 0.0001, 'measurement': 0.088}\n"
     ]
    }
   ],
   "source": [
    "some_measurements = {'P00549': 0.01, 'P31373': 0.01, 'P31382': 0.011}\n",
    "proteomics = []\n",
    "prot_schema = Proteomics()\n",
    "proteomics = [prot_schema.dump(dict(identifier = idx, measurement=val, uncertainty = 0.0001))\n",
    "              for idx, val in some_measurements.items()]\n",
    "print(proteomics)\n",
    "\n",
    "# now, the growth_rate\n",
    "growth_rate = GrowthRate().dump(dict(measurement=0.088, uncertainty=0.0001))\n",
    "print(\"\\n\",growth_rate)"
   ]
  },
  {
   "cell_type": "code",
   "execution_count": 22,
   "metadata": {
    "scrolled": true
   },
   "outputs": [],
   "source": [
    "with yeast as mod:\n",
    "    apply_measurements(mod, 'r_2111', proteomics, growth_rate)"
   ]
  },
  {
   "cell_type": "code",
   "execution_count": 23,
   "metadata": {},
   "outputs": [
    {
     "data": {
      "text/plain": [
       "([{'operation': 'modify',\n",
       "   'type': 'reaction',\n",
       "   'id': 'r_2111',\n",
       "   'data': OrderedDict([('id', 'r_2111'),\n",
       "                ('name', 'growth'),\n",
       "                ('metabolites', OrderedDict([('s_0450__91__c__93__', -1.0)])),\n",
       "                ('lower_bound', 0.08787409974594668),\n",
       "                ('upper_bound', 0.08807409974594668),\n",
       "                ('gene_reaction_rule', ''),\n",
       "                ('objective_coefficient', 1.0),\n",
       "                ('annotation',\n",
       "                 OrderedDict([('metanetx.reaction', 'MNXR137261')]))])},\n",
       "  {'operation': 'modify',\n",
       "   'type': 'reaction',\n",
       "   'id': 'prot_P00549_exchange',\n",
       "   'data': OrderedDict([('id', 'prot_P00549_exchange'),\n",
       "                ('name', 'prot_P00549_exchange'),\n",
       "                ('metabolites',\n",
       "                 OrderedDict([('prot_P00549__91__c__93__', 1.0)])),\n",
       "                ('lower_bound', 0),\n",
       "                ('upper_bound', 0.0101),\n",
       "                ('gene_reaction_rule', 'YAL038W'),\n",
       "                ('annotation', OrderedDict([('uniprot', 'P00549')]))])},\n",
       "  {'operation': 'modify',\n",
       "   'type': 'reaction',\n",
       "   'id': 'prot_P31373_exchange',\n",
       "   'data': OrderedDict([('id', 'prot_P31373_exchange'),\n",
       "                ('name', 'prot_P31373_exchange'),\n",
       "                ('metabolites',\n",
       "                 OrderedDict([('prot_P31373__91__c__93__', 1.0)])),\n",
       "                ('lower_bound', 0),\n",
       "                ('upper_bound', 0.0101),\n",
       "                ('gene_reaction_rule', 'YAL012W'),\n",
       "                ('annotation', OrderedDict([('uniprot', 'P31373')]))])},\n",
       "  {'operation': 'modify',\n",
       "   'type': 'reaction',\n",
       "   'id': 'prot_P31382_exchange',\n",
       "   'data': OrderedDict([('id', 'prot_P31382_exchange'),\n",
       "                ('name', 'prot_P31382_exchange'),\n",
       "                ('metabolites',\n",
       "                 OrderedDict([('prot_P31382__91__c__93__', 1.0)])),\n",
       "                ('lower_bound', 0),\n",
       "                ('upper_bound', 0.011099999999999999),\n",
       "                ('gene_reaction_rule', 'YAL023C'),\n",
       "                ('annotation', OrderedDict([('uniprot', 'P31382')]))])},\n",
       "  {'operation': 'modify',\n",
       "   'type': 'reaction',\n",
       "   'id': 'prot_P00498_exchange',\n",
       "   'data': OrderedDict([('id', 'prot_P00498_exchange'),\n",
       "                ('name', 'prot_P00498_exchange'),\n",
       "                ('metabolites',\n",
       "                 OrderedDict([('prot_P00498__91__c__93__', 1.0)])),\n",
       "                ('lower_bound', 0),\n",
       "                ('upper_bound', 0.0),\n",
       "                ('gene_reaction_rule', 'YER055C'),\n",
       "                ('annotation', OrderedDict([('uniprot', 'P00498')]))])}],\n",
       " [],\n",
       " [])"
      ]
     },
     "execution_count": 23,
     "metadata": {},
     "output_type": "execute_result"
    }
   ],
   "source": [
    "# essential protein to 0\n",
    "proteomics.append(prot_schema.dump(dict(identifier = 'P00498', measurement=0, uncertainty = 0.0)))\n",
    "apply_measurements(yeast, 'r_2111', proteomics, growth_rate)"
   ]
  },
  {
   "cell_type": "markdown",
   "metadata": {},
   "source": [
    "## Cleaning"
   ]
  },
  {
   "cell_type": "code",
   "execution_count": 24,
   "metadata": {},
   "outputs": [],
   "source": [
    "import os\n",
    "\n",
    "os.remove(\"eciML1515.xml\")\n",
    "os.remove(\"ecYeastGEM.xml\")"
   ]
  }
 ],
 "metadata": {
  "kernelspec": {
   "display_name": "Python 3",
   "language": "python",
   "name": "python3"
  },
  "language_info": {
   "codemirror_mode": {
    "name": "ipython",
    "version": 3
   },
   "file_extension": ".py",
   "mimetype": "text/x-python",
   "name": "python",
   "nbconvert_exporter": "python",
   "pygments_lexer": "ipython3",
   "version": "3.6.8"
  }
 },
 "nbformat": 4,
 "nbformat_minor": 2
}
