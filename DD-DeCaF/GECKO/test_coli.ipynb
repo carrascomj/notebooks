{
 "cells": [
  {
   "cell_type": "markdown",
   "metadata": {},
   "source": [
    "# Test on Essentiality of eciML1515\n",
    "Try to remove some proteins (upper bound to 0) and see if the output of the model.  \n",
    "\n",
    "First, download the model from the repo."
   ]
  },
  {
   "cell_type": "code",
   "execution_count": 1,
   "metadata": {},
   "outputs": [],
   "source": [
    "! [ ! -f \"eciML1515.xml\" ] && curl -O -L \"https://raw.githubusercontent.com/BenjaSanchez/notebooks/master/eciML1515.xml\""
   ]
  },
  {
   "cell_type": "code",
   "execution_count": 2,
   "metadata": {},
   "outputs": [
    {
     "data": {
      "text/html": [
       "<strong><em>Optimal</em> solution with objective value 0.877</strong><br><div>\n",
       "<style scoped>\n",
       "    .dataframe tbody tr th:only-of-type {\n",
       "        vertical-align: middle;\n",
       "    }\n",
       "\n",
       "    .dataframe tbody tr th {\n",
       "        vertical-align: top;\n",
       "    }\n",
       "\n",
       "    .dataframe thead th {\n",
       "        text-align: right;\n",
       "    }\n",
       "</style>\n",
       "<table border=\"1\" class=\"dataframe\">\n",
       "  <thead>\n",
       "    <tr style=\"text-align: right;\">\n",
       "      <th></th>\n",
       "      <th>fluxes</th>\n",
       "      <th>reduced_costs</th>\n",
       "    </tr>\n",
       "  </thead>\n",
       "  <tbody>\n",
       "    <tr>\n",
       "      <td>EX_acgam_e</td>\n",
       "      <td>0.000000</td>\n",
       "      <td>-0.282126</td>\n",
       "    </tr>\n",
       "    <tr>\n",
       "      <td>EX_cellb_e</td>\n",
       "      <td>0.000000</td>\n",
       "      <td>-0.361121</td>\n",
       "    </tr>\n",
       "    <tr>\n",
       "      <td>EX_chol_e</td>\n",
       "      <td>0.000000</td>\n",
       "      <td>-0.022570</td>\n",
       "    </tr>\n",
       "    <tr>\n",
       "      <td>EX_pi_e</td>\n",
       "      <td>0.000000</td>\n",
       "      <td>0.000000</td>\n",
       "    </tr>\n",
       "    <tr>\n",
       "      <td>EX_h_e</td>\n",
       "      <td>8.058201</td>\n",
       "      <td>0.000000</td>\n",
       "    </tr>\n",
       "    <tr>\n",
       "      <td>...</td>\n",
       "      <td>...</td>\n",
       "      <td>...</td>\n",
       "    </tr>\n",
       "    <tr>\n",
       "      <td>prot_Q59385_exchange</td>\n",
       "      <td>0.000000</td>\n",
       "      <td>-0.000000</td>\n",
       "    </tr>\n",
       "    <tr>\n",
       "      <td>prot_Q6BEX0_exchange</td>\n",
       "      <td>0.000000</td>\n",
       "      <td>-0.000000</td>\n",
       "    </tr>\n",
       "    <tr>\n",
       "      <td>prot_Q6BF16_exchange</td>\n",
       "      <td>0.000000</td>\n",
       "      <td>-0.000000</td>\n",
       "    </tr>\n",
       "    <tr>\n",
       "      <td>prot_Q6BF17_exchange</td>\n",
       "      <td>0.000000</td>\n",
       "      <td>-0.000000</td>\n",
       "    </tr>\n",
       "    <tr>\n",
       "      <td>prot_Q93K97_exchange</td>\n",
       "      <td>0.000000</td>\n",
       "      <td>-0.000000</td>\n",
       "    </tr>\n",
       "  </tbody>\n",
       "</table>\n",
       "<p>6083 rows × 2 columns</p>\n",
       "</div>"
      ],
      "text/plain": [
       "<Solution 0.877 at 0x7f988d668c50>"
      ]
     },
     "execution_count": 2,
     "metadata": {},
     "output_type": "execute_result"
    }
   ],
   "source": [
    "import cobra\n",
    "import sys\n",
    "\n",
    "model = cobra.io.read_sbml_model(\"eciML1515.xml\")\n",
    "model.solver.timeout = 5\n",
    "model.optimize()"
   ]
  },
  {
   "cell_type": "code",
   "execution_count": 3,
   "metadata": {},
   "outputs": [],
   "source": [
    "prot_exchanges = [reac for reac in model.reactions if reac.id.startswith(\"prot_\") and not reac.id.endswith(\"REV\")]"
   ]
  },
  {
   "cell_type": "code",
   "execution_count": 4,
   "metadata": {},
   "outputs": [],
   "source": [
    "class ProBar:\n",
    "    \"\"\"\n",
    "    Just a simple progress bar object to output on screen\n",
    "    \"\"\"\n",
    "\n",
    "    def __init__(self, n, blength=20):\n",
    "        self.n = n\n",
    "        self.blength = 20\n",
    "        self.progress(0)\n",
    "\n",
    "    def progress(self, pro):\n",
    "        pro = pro / self.n\n",
    "        block = int(round(self.blength * pro))\n",
    "        bar = (\n",
    "            \"\\rRunning... [\"\n",
    "            + \"#\" * block\n",
    "            + \"-\" * (self.blength - block)\n",
    "            + \"] \"\n",
    "            + \"{:.2f}\".format(pro * 100)\n",
    "            + \"%\"\n",
    "        )\n",
    "        if pro == 1:\n",
    "            bar += \" DONE!\\n\"\n",
    "        # This works on a shell. On an IDE is quite cumbersome.\n",
    "        sys.stdout.write(bar)\n",
    "        sys.stdout.flush()"
   ]
  },
  {
   "cell_type": "code",
   "execution_count": 9,
   "metadata": {},
   "outputs": [
    {
     "name": "stdout",
     "output_type": "stream",
     "text": [
      "Running... [--------------------] 0.00%"
     ]
    },
    {
     "data": {
      "text/html": [
       "\n",
       "        <table>\n",
       "            <tr>\n",
       "                <td><strong>Reaction identifier</strong></td><td>prot_O32583_exchange</td>\n",
       "            </tr><tr>\n",
       "                <td><strong>Name</strong></td><td>prot_O32583_exchange</td>\n",
       "            </tr><tr>\n",
       "                <td><strong>Memory address</strong></td>\n",
       "                <td>0x07f983a7f7f28</td>\n",
       "            </tr><tr>\n",
       "                <td><strong>Stoichiometry</strong></td>\n",
       "                <td>\n",
       "                    <p style='text-align:right'> --> prot_O32583__91__c__93__</p>\n",
       "                    <p style='text-align:right'> --> prot_O32583 [cytosol]</p>\n",
       "                </td>\n",
       "            </tr><tr>\n",
       "                <td><strong>GPR</strong></td><td>b4407</td>\n",
       "            </tr><tr>\n",
       "                <td><strong>Lower bound</strong></td><td>0</td>\n",
       "            </tr><tr>\n",
       "                <td><strong>Upper bound</strong></td><td>0</td>\n",
       "            </tr>\n",
       "        </table>\n",
       "        "
      ],
      "text/plain": [
       "<Reaction prot_O32583_exchange at 0x7f983a7f7f28>"
      ]
     },
     "execution_count": 9,
     "metadata": {},
     "output_type": "execute_result"
    }
   ],
   "source": [
    "import math\n",
    "\n",
    "bar = ProBar(len(prot_exchanges))\n",
    "\n",
    "for i, protr in enumerate(prot_exchanges):\n",
    "    bar.progress(i)\n",
    "    protr.bounds = 0,0\n",
    "    sol = model.slim_optimize()\n",
    "    if math.isnan(sol):\n",
    "        essential_protein_ex = protr\n",
    "        break\n",
    "        \n",
    "essential_protein_ex"
   ]
  }
 ],
 "metadata": {
  "kernelspec": {
   "display_name": "Python 3",
   "language": "python",
   "name": "python3"
  },
  "language_info": {
   "codemirror_mode": {
    "name": "ipython",
    "version": 3
   },
   "file_extension": ".py",
   "mimetype": "text/x-python",
   "name": "python",
   "nbconvert_exporter": "python",
   "pygments_lexer": "ipython3",
   "version": "3.6.8"
  }
 },
 "nbformat": 4,
 "nbformat_minor": 2
}
