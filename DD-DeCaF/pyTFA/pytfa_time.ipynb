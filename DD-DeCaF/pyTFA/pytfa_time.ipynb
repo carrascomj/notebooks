{
 "cells": [
  {
   "cell_type": "markdown",
   "metadata": {},
   "source": [
    "# Inspecting pyTFA package\n",
    "The integrations of metabolomics data and thermodynamics information could be summarized with a Thermodynamics-Based Metabolic Flux Balance Analysis (TFA). This was nicely implemented in the pyTFA package.\n",
    "```\n",
    "Thermodynamics-based Flux Analysis, in Python. Paper : Pierre Salvy, Georgios Fengos, Meric Ataman, Thomas Pathier, Keng C Soh, Vassily Hatzimanikatis. \"pyTFA and matTFA: a Python package and a Matlab toolbox for Thermodynamics-based Flux Analysis\" Bioinformatics (2018), bty499, DOI: https://doi.org/10.1093/bioinformatics/bty499\n",
    "```\n",
    "The first step is to evaluate the perfomance to make sure the integration is possible. Five different operations has to be consider:\n",
    "\n",
    "1. Translate the model from cobrapy to pyTFA.\n",
    "2. Adding of user-provided thermodynamics data.\n",
    "3. Adding of user-provided metabolomics data.\n",
    "4. Compute group contributions. This is done in the package only for SEED IDs annotations.\n",
    "5. Solve the resulting LP problem.\n",
    "\n",
    "This operations will be tested for the [tutorial to reproduce the figure of the publication](https://github.com/EPFL-LCSB/pytfa/blob/master/tutorials/figure_paper.py)."
   ]
  },
  {
   "cell_type": "code",
   "execution_count": 1,
   "metadata": {},
   "outputs": [],
   "source": [
    "! [ ! -f \"thermo_data.thermodb\" ] && curl -O -L \"https://raw.githubusercontent.com/EPFL-LCSB/pytfa/master/data/thermo_data.thermodb\""
   ]
  },
  {
   "cell_type": "code",
   "execution_count": 2,
   "metadata": {},
   "outputs": [
    {
     "name": "stdout",
     "output_type": "stream",
     "text": [
      "Academic license - for non-commercial use only\n"
     ]
    }
   ],
   "source": [
    "import os\n",
    "import errno\n",
    "import pytfa\n",
    "\n",
    "from pytfa.io import import_matlab_model, load_thermoDB\n",
    "\n",
    "from pytfa.optim.variables import DeltaG,DeltaGstd,ThermoDisplacement\n",
    "from pytfa.analysis import  variability_analysis,           \\\n",
    "                            apply_reaction_variability,     \\\n",
    "                            apply_generic_variability,       \\\n",
    "                            apply_directionality\n",
    "\n",
    "from cobra.flux_analysis.variability import flux_variability_analysis\n",
    "\n",
    "from math import log"
   ]
  },
  {
   "cell_type": "code",
   "execution_count": 3,
   "metadata": {},
   "outputs": [],
   "source": [
    "def apply_concentration_bound(measure):\n",
    "    met, lb, ub = measure\n",
    "    the_conc_var = tmodel.log_concentration.get_by_id(met)\n",
    "    # Do not forget the variables in the model are logs !\n",
    "    the_conc_var.ub = log(ub)\n",
    "    the_conc_var.lb = log(lb)\n",
    "\n",
    "CPLEX = 'optlang-cplex'\n",
    "GUROBI = 'optlang-gurobi'\n",
    "GLPK = 'optlang-glpk'\n",
    "\n",
    "metabolomics_data = [\n",
    "    ('atp_c', 1e-3, 1e-2),\n",
    "    ('adp_c', 4e-4, 7e-4),\n",
    "    ('atp_c', 2e-4, 3e-4)\n",
    "]"
   ]
  },
  {
   "cell_type": "code",
   "execution_count": 4,
   "metadata": {},
   "outputs": [],
   "source": [
    "# Load the cobra_model\n",
    "cobra_model = import_matlab_model('small_ecoli.mat')\n",
    "cobra_model.solver = \"glpk\""
   ]
  },
  {
   "cell_type": "code",
   "execution_count": 5,
   "metadata": {},
   "outputs": [
    {
     "name": "stdout",
     "output_type": "stream",
     "text": [
      "CPU times: user 303 ms, sys: 55.5 ms, total: 358 ms\n",
      "Wall time: 356 ms\n"
     ]
    }
   ],
   "source": [
    "%%time\n",
    "# Load reaction DB\n",
    "thermo_data = load_thermoDB('thermo_data.thermodb')"
   ]
  },
  {
   "cell_type": "code",
   "execution_count": 6,
   "metadata": {},
   "outputs": [
    {
     "name": "stderr",
     "output_type": "stream",
     "text": [
      "2019-11-15 13:59:02,428 - thermomodel_new - INFO - # Model initialized with units kcal/mol and temperature 298.15 K\n",
      "2019-11-15 13:59:02,429 - thermomodel_new - INFO - # Model preparation starting...\n"
     ]
    },
    {
     "name": "stdout",
     "output_type": "stream",
     "text": [
      "Warning : NULL/U\n",
      "Warning : NULL/L\n",
      "Warning : NULL/L\n",
      "Warning : NULL/U\n",
      "Warning : NULL/L\n",
      "Warning : NULL/L\n",
      "Warning : NULL/U\n",
      "Warning : NULL/L\n",
      "Warning : NULL/L\n",
      "Warning : NULL/U\n",
      "Warning : NULL/L\n",
      "Warning : NULL/L\n",
      "Warning : NULL/U\n",
      "Warning : NULL/L\n",
      "Warning : NULL/L\n",
      "Warning : NULL/U\n",
      "Warning : NULL/L\n",
      "Warning : NULL/L\n",
      "Warning : NULL/U\n",
      "Warning : NULL/L\n",
      "Warning : NULL/L\n",
      "Warning : NULL/U\n",
      "Warning : NULL/L\n",
      "Warning : NULL/L\n",
      "Warning : NULL/U\n",
      "Warning : NULL/L\n",
      "Warning : NULL/L\n",
      "Warning : NULL/U\n",
      "Warning : NULL/L\n",
      "Warning : NULL/L\n",
      "Warning : NULL/U\n",
      "Warning : NULL/L\n",
      "Warning : NULL/L\n",
      "Warning : NULL/U\n",
      "Warning : NULL/L\n",
      "Warning : NULL/L\n",
      "Warning : NULL/U\n",
      "Warning : NULL/L\n",
      "Warning : NULL/L\n",
      "Warning : NULL/U\n",
      "Warning : NULL/L\n",
      "Warning : NULL/L\n",
      "Warning : NULL/U\n",
      "Warning : NULL/L\n",
      "Warning : NULL/L\n",
      "Warning : NULL/U\n",
      "Warning : NULL/L\n",
      "Warning : NULL/L\n",
      "Warning : NULL/U\n",
      "Warning : NULL/L\n",
      "Warning : NULL/L\n",
      "Warning : NULL/U\n",
      "Warning : NULL/L\n",
      "Warning : NULL/L\n",
      "Warning : NULL/U\n",
      "Warning : NULL/L\n",
      "Warning : NULL/L\n",
      "Warning : NULL/U\n",
      "Warning : NULL/L\n",
      "Warning : NULL/L\n",
      "Warning : NULL/U\n",
      "Warning : NULL/L\n",
      "Warning : NULL/L\n",
      "Warning : NULL/U\n",
      "Warning : NULL/L\n",
      "Warning : NULL/L\n",
      "Warning : NULL/U\n",
      "Warning : NULL/L\n",
      "Warning : NULL/L\n",
      "Warning : NULL/U\n",
      "Warning : NULL/L\n",
      "Warning : NULL/L\n",
      "Warning : NULL/U\n",
      "Warning : NULL/L\n",
      "Warning : NULL/L\n",
      "Warning : NULL/U\n",
      "Warning : NULL/L\n",
      "Warning : NULL/L\n",
      "Warning : NULL/U\n",
      "Warning : NULL/L\n",
      "Warning : NULL/L\n",
      "Warning : NULL/U\n",
      "Warning : NULL/L\n",
      "Warning : NULL/L\n",
      "Warning : NULL/U\n",
      "Warning : NULL/L\n",
      "Warning : NULL/L\n",
      "Warning : NULL/U\n",
      "Warning : NULL/L\n",
      "Warning : NULL/L\n",
      "Warning : NULL/U\n",
      "Warning : NULL/L\n",
      "Warning : NULL/L\n",
      "Warning : NULL/U\n",
      "Warning : NULL/L\n",
      "Warning : NULL/L\n"
     ]
    },
    {
     "name": "stderr",
     "output_type": "stream",
     "text": [
      "2019-11-15 13:59:03,152 - thermomodel_new - INFO - # Model preparation done.\n",
      "2019-11-15 13:59:03,153 - thermomodel_new - INFO - # Model conversion starting...\n"
     ]
    },
    {
     "name": "stdout",
     "output_type": "stream",
     "text": [
      "Warning : NULL/U\n",
      "Warning : NULL/L\n",
      "Warning : NULL/L\n",
      "Warning : NULL/U\n",
      "Warning : NULL/L\n",
      "Warning : NULL/L\n",
      "Warning : NULL/U\n",
      "Warning : NULL/L\n",
      "Warning : NULL/L\n",
      "Warning : NULL/U\n",
      "Warning : NULL/L\n",
      "Warning : NULL/L\n",
      "Warning : NULL/U\n",
      "Warning : NULL/L\n",
      "Warning : NULL/L\n",
      "Warning : NULL/U\n",
      "Warning : NULL/L\n",
      "Warning : NULL/L\n",
      "Warning : NULL/U\n",
      "Warning : NULL/L\n",
      "Warning : NULL/L\n",
      "Warning : NULL/U\n",
      "Warning : NULL/L\n",
      "Warning : NULL/L\n",
      "Warning : NULL/U\n",
      "Warning : NULL/L\n",
      "Warning : NULL/L\n",
      "Warning : NULL/U\n",
      "Warning : NULL/L\n",
      "Warning : NULL/L\n",
      "Warning : NULL/U\n",
      "Warning : NULL/L\n",
      "Warning : NULL/L\n",
      "Warning : NULL/U\n",
      "Warning : NULL/L\n",
      "Warning : NULL/L\n",
      "Warning : NULL/U\n",
      "Warning : NULL/L\n",
      "Warning : NULL/L\n",
      "Warning : NULL/U\n",
      "Warning : NULL/L\n",
      "Warning : NULL/L\n",
      "Warning : NULL/U\n",
      "Warning : NULL/L\n",
      "Warning : NULL/L\n",
      "Warning : NULL/U\n",
      "Warning : NULL/L\n",
      "Warning : NULL/L\n",
      "Warning : NULL/U\n",
      "Warning : NULL/L\n",
      "Warning : NULL/L\n",
      "Warning : NULL/U\n",
      "Warning : NULL/L\n",
      "Warning : NULL/L\n",
      "Warning : NULL/U\n",
      "Warning : NULL/L\n",
      "Warning : NULL/L\n",
      "Warning : NULL/U\n",
      "Warning : NULL/L\n",
      "Warning : NULL/L\n",
      "Warning : NULL/U\n",
      "Warning : NULL/L\n",
      "Warning : NULL/L\n",
      "Warning : NULL/U\n",
      "Warning : NULL/L\n",
      "Warning : NULL/L\n",
      "Warning : NULL/U\n",
      "Warning : NULL/L\n",
      "Warning : NULL/L\n",
      "Warning : NULL/U\n",
      "Warning : NULL/L\n",
      "Warning : NULL/L\n"
     ]
    },
    {
     "name": "stderr",
     "output_type": "stream",
     "text": [
      "2019-11-15 13:59:05,048 - thermomodel_new - INFO - # Model conversion done.\n",
      "2019-11-15 13:59:05,048 - thermomodel_new - INFO - # Updating cobra_model variables...\n",
      "2019-11-15 13:59:05,065 - thermomodel_new - INFO - # cobra_model variables are up-to-date\n"
     ]
    },
    {
     "name": "stdout",
     "output_type": "stream",
     "text": [
      "                value\n",
      "key                  \n",
      "name              new\n",
      "description       new\n",
      "num constraints  3765\n",
      "num variables    3898\n",
      "num metabolites   304\n",
      "num reactions     599\n",
      "                           value\n",
      "key                             \n",
      "num metabolites(thermo)      300\n",
      "num reactions(thermo)        418\n",
      "pct metabolites(thermo)  98.6842\n",
      "pct reactions(thermo)     69.783\n",
      "CPU times: user 2.83 s, sys: 58.4 ms, total: 2.89 s\n",
      "Wall time: 2.87 s\n"
     ]
    }
   ],
   "source": [
    "%%time\n",
    "# Initialize the thermodynamic model\n",
    "tmodel = pytfa.ThermoModel(thermo_data, cobra_model)\n",
    "tmodel.solver = GLPK\n",
    "tmodel.prepare()\n",
    "tmodel.convert(add_displacement = True)\n",
    "tmodel.print_info()"
   ]
  },
  {
   "cell_type": "code",
   "execution_count": 7,
   "metadata": {},
   "outputs": [
    {
     "name": "stdout",
     "output_type": "stream",
     "text": [
      "CPU times: user 5 µs, sys: 0 ns, total: 5 µs\n",
      "Wall time: 8.34 µs\n"
     ]
    },
    {
     "data": {
      "text/plain": [
       "<map at 0x7efd8eb39160>"
      ]
     },
     "execution_count": 7,
     "metadata": {},
     "output_type": "execute_result"
    }
   ],
   "source": [
    "%%time\n",
    "map(apply_concentration_bound, metabolomics_data)"
   ]
  },
  {
   "cell_type": "markdown",
   "metadata": {},
   "source": [
    "Negligible."
   ]
  },
  {
   "cell_type": "code",
   "execution_count": 8,
   "metadata": {},
   "outputs": [
    {
     "name": "stdout",
     "output_type": "stream",
     "text": [
      "CPU times: user 10.6 s, sys: 17.5 ms, total: 10.6 s\n",
      "Wall time: 10.5 s\n"
     ]
    },
    {
     "data": {
      "text/html": [
       "<strong><em>Optimal</em> solution with objective value 0.811</strong><br><div>\n",
       "<style scoped>\n",
       "    .dataframe tbody tr th:only-of-type {\n",
       "        vertical-align: middle;\n",
       "    }\n",
       "\n",
       "    .dataframe tbody tr th {\n",
       "        vertical-align: top;\n",
       "    }\n",
       "\n",
       "    .dataframe thead th {\n",
       "        text-align: right;\n",
       "    }\n",
       "</style>\n",
       "<table border=\"1\" class=\"dataframe\">\n",
       "  <thead>\n",
       "    <tr style=\"text-align: right;\">\n",
       "      <th></th>\n",
       "      <th>fluxes</th>\n",
       "      <th>reduced_costs</th>\n",
       "    </tr>\n",
       "  </thead>\n",
       "  <tbody>\n",
       "    <tr>\n",
       "      <td>DM_4CRSOL</td>\n",
       "      <td>0.000181</td>\n",
       "      <td>None</td>\n",
       "    </tr>\n",
       "    <tr>\n",
       "      <td>DM_5DRIB</td>\n",
       "      <td>0.000187</td>\n",
       "      <td>None</td>\n",
       "    </tr>\n",
       "    <tr>\n",
       "      <td>DM_AMOB</td>\n",
       "      <td>0.000002</td>\n",
       "      <td>None</td>\n",
       "    </tr>\n",
       "    <tr>\n",
       "      <td>DM_MTHTHF</td>\n",
       "      <td>0.001087</td>\n",
       "      <td>None</td>\n",
       "    </tr>\n",
       "    <tr>\n",
       "      <td>Ec_biomass_iJO1366_WT_53p95M</td>\n",
       "      <td>0.810997</td>\n",
       "      <td>None</td>\n",
       "    </tr>\n",
       "    <tr>\n",
       "      <td>...</td>\n",
       "      <td>...</td>\n",
       "      <td>...</td>\n",
       "    </tr>\n",
       "    <tr>\n",
       "      <td>LMPD_250_trp-L_c</td>\n",
       "      <td>0.044795</td>\n",
       "      <td>None</td>\n",
       "    </tr>\n",
       "    <tr>\n",
       "      <td>LMPD_251_tyr-L_c</td>\n",
       "      <td>0.108668</td>\n",
       "      <td>None</td>\n",
       "    </tr>\n",
       "    <tr>\n",
       "      <td>LMPD_252_udcpdp_c</td>\n",
       "      <td>0.000045</td>\n",
       "      <td>None</td>\n",
       "    </tr>\n",
       "    <tr>\n",
       "      <td>LMPD_253_utp_c</td>\n",
       "      <td>0.113622</td>\n",
       "      <td>None</td>\n",
       "    </tr>\n",
       "    <tr>\n",
       "      <td>LMPD_254_val-L_c</td>\n",
       "      <td>0.333469</td>\n",
       "      <td>None</td>\n",
       "    </tr>\n",
       "  </tbody>\n",
       "</table>\n",
       "<p>599 rows × 2 columns</p>\n",
       "</div>"
      ],
      "text/plain": [
       "<Solution 0.811 at 0x7efde4bd98d0>"
      ]
     },
     "execution_count": 8,
     "metadata": {},
     "output_type": "execute_result"
    }
   ],
   "source": [
    "%%time\n",
    "tmodel.optimize()"
   ]
  },
  {
   "cell_type": "code",
   "execution_count": 9,
   "metadata": {},
   "outputs": [
    {
     "name": "stdout",
     "output_type": "stream",
     "text": [
      "CPU times: user 97.3 ms, sys: 148 ms, total: 246 ms\n",
      "Wall time: 555 ms\n"
     ]
    }
   ],
   "source": [
    "%%time\n",
    "# FVA cobra\n",
    "fva_fluxes = flux_variability_analysis(cobra_model)"
   ]
  },
  {
   "cell_type": "code",
   "execution_count": 10,
   "metadata": {},
   "outputs": [],
   "source": [
    "# Perform variability analysis again\n",
    "# gets stuck in my computer\n",
    "#tva_fluxes_lc = variability_analysis(tmodel, kind='reactions')"
   ]
  },
  {
   "cell_type": "markdown",
   "metadata": {},
   "source": [
    "### Results\n",
    "Looks like the LP solving is the only demanding operation but it should be below 10 s running in the platform. The variability_analysis seems to be discarded for now: it perfroms a LP problem for every reaction in the model as an objective.\n",
    "In my case, it takes longer than it should be because my computer freaks out with some infeasible solutions... Gurobi doesn't seem to work somehow."
   ]
  },
  {
   "cell_type": "markdown",
   "metadata": {},
   "source": [
    "## Plotting\n",
    "For consistency with the tutorial."
   ]
  },
  {
   "cell_type": "code",
   "execution_count": 11,
   "metadata": {},
   "outputs": [],
   "source": [
    "from pytfa.io.plotting import plot_fva_tva_comparison\n",
    "from bokeh.plotting import show, output_file\n",
    "from bokeh.layouts import column"
   ]
  },
  {
   "cell_type": "code",
   "execution_count": 12,
   "metadata": {},
   "outputs": [
    {
     "ename": "NameError",
     "evalue": "name 'tva_fluxes' is not defined",
     "output_type": "error",
     "traceback": [
      "\u001b[0;31m---------------------------------------------------------------------------\u001b[0m",
      "\u001b[0;31mNameError\u001b[0m                                 Traceback (most recent call last)",
      "\u001b[0;32m<ipython-input-12-74d929f663d7>\u001b[0m in \u001b[0;36m<module>\u001b[0;34m\u001b[0m\n\u001b[1;32m      1\u001b[0m \u001b[0moutput_file\u001b[0m\u001b[0;34m(\u001b[0m\u001b[0;34m'outputs/va_comparison.html'\u001b[0m\u001b[0;34m)\u001b[0m\u001b[0;34m\u001b[0m\u001b[0;34m\u001b[0m\u001b[0m\n\u001b[0;32m----> 2\u001b[0;31m \u001b[0mp1\u001b[0m \u001b[0;34m=\u001b[0m \u001b[0mplot_fva_tva_comparison\u001b[0m\u001b[0;34m(\u001b[0m\u001b[0mfva_fluxes\u001b[0m\u001b[0;34m,\u001b[0m \u001b[0mtva_fluxes\u001b[0m\u001b[0;34m)\u001b[0m\u001b[0;34m\u001b[0m\u001b[0;34m\u001b[0m\u001b[0m\n\u001b[0m\u001b[1;32m      3\u001b[0m \u001b[0mp2\u001b[0m \u001b[0;34m=\u001b[0m \u001b[0mplot_fva_tva_comparison\u001b[0m\u001b[0;34m(\u001b[0m\u001b[0mfva_fluxes\u001b[0m\u001b[0;34m,\u001b[0m \u001b[0mtva_fluxes_lc\u001b[0m\u001b[0;34m)\u001b[0m\u001b[0;34m\u001b[0m\u001b[0;34m\u001b[0m\u001b[0m\n\u001b[1;32m      4\u001b[0m \u001b[0mc\u001b[0m \u001b[0;34m=\u001b[0m \u001b[0mcolumn\u001b[0m\u001b[0;34m(\u001b[0m\u001b[0mp1\u001b[0m\u001b[0;34m,\u001b[0m\u001b[0mp2\u001b[0m\u001b[0;34m)\u001b[0m\u001b[0;34m\u001b[0m\u001b[0;34m\u001b[0m\u001b[0m\n\u001b[1;32m      5\u001b[0m \u001b[0mshow\u001b[0m\u001b[0;34m(\u001b[0m\u001b[0mc\u001b[0m\u001b[0;34m)\u001b[0m\u001b[0;34m\u001b[0m\u001b[0;34m\u001b[0m\u001b[0m\n",
      "\u001b[0;31mNameError\u001b[0m: name 'tva_fluxes' is not defined"
     ]
    }
   ],
   "source": [
    "output_file('outputs/va_comparison.html')\n",
    "p1 = plot_fva_tva_comparison(fva_fluxes, tva_fluxes)\n",
    "p2 = plot_fva_tva_comparison(fva_fluxes, tva_fluxes_lc)\n",
    "c = column(p1,p2)\n",
    "show(c)"
   ]
  }
 ],
 "metadata": {
  "kernelspec": {
   "display_name": "Python 3",
   "language": "python",
   "name": "python3"
  },
  "language_info": {
   "codemirror_mode": {
    "name": "ipython",
    "version": 3
   },
   "file_extension": ".py",
   "mimetype": "text/x-python",
   "name": "python",
   "nbconvert_exporter": "python",
   "pygments_lexer": "ipython3",
   "version": "3.6.8"
  }
 },
 "nbformat": 4,
 "nbformat_minor": 2
}
