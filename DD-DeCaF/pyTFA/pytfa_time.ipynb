{
 "cells": [
  {
   "cell_type": "markdown",
   "metadata": {},
   "source": [
    "# Inspecting pyTFA package\n",
    "The integrations of metabolomics data and thermodynamics information could be summarized with a Thermodynamics-Based Metabolic Flux Balance Analysis (TFA). This was nicely implemented in the pyTFA package.\n",
    "```\n",
    "Thermodynamics-based Flux Analysis, in Python. Paper : Pierre Salvy, Georgios Fengos, Meric Ataman, Thomas Pathier, Keng C Soh, Vassily Hatzimanikatis. \"pyTFA and matTFA: a Python package and a Matlab toolbox for Thermodynamics-based Flux Analysis\" Bioinformatics (2018), bty499, DOI: https://doi.org/10.1093/bioinformatics/bty499\n",
    "```\n",
    "The first step is to evaluate the perfomance to make sure the integration is possible. Five different operations has to be consider:\n",
    "\n",
    "1. Translate the model from cobrapy to pyTFA.\n",
    "2. Adding of user-provided thermodynamics data.\n",
    "3. Adding of user-provided metabolomics data.\n",
    "4. Compute group contributions. This is done in the package only for SEED IDs annotations.\n",
    "5. Solve the resulting LP problem.\n",
    "\n",
    "These operations will be tested for the [tutorial to reproduce the figure of the publication](https://github.com/EPFL-LCSB/pytfa/blob/master/tutorials/figure_paper.py)."
   ]
  },
  {
   "cell_type": "code",
   "execution_count": 1,
   "metadata": {},
   "outputs": [
    {
     "name": "stdout",
     "output_type": "stream",
     "text": [
      "Academic license - for non-commercial use only\n"
     ]
    }
   ],
   "source": [
    "import os\n",
    "import errno\n",
    "import pytfa\n",
    "import warnings\n",
    "\n",
    "from pytfa.io import import_matlab_model, load_thermoDB\n",
    "\n",
    "from pytfa.optim.variables import DeltaG,DeltaGstd,ThermoDisplacement\n",
    "from pytfa.analysis import  variability_analysis,           \\\n",
    "                            apply_reaction_variability,     \\\n",
    "                            apply_generic_variability,       \\\n",
    "                            apply_directionality\n",
    "\n",
    "from cobra.flux_analysis.variability import flux_variability_analysis\n",
    "\n",
    "from math import log"
   ]
  },
  {
   "cell_type": "code",
   "execution_count": 2,
   "metadata": {},
   "outputs": [],
   "source": [
    "def apply_concentration_bound(measure, tmodel):\n",
    "    met, lb, ub = measure\n",
    "    the_conc_var = tmodel.log_concentration.get_by_id(met)\n",
    "    # Do not forget the variables in the model are logs !\n",
    "    the_conc_var.ub = log(ub)\n",
    "    the_conc_var.lb = log(lb)\n",
    "\n",
    "CPLEX = 'optlang-cplex'\n",
    "GUROBI = 'optlang-gurobi'\n",
    "GLPK = 'optlang-glpk'\n",
    "\n",
    "metabolomics_data = [\n",
    "    ('atp_c', 1e-3, 1e-2),\n",
    "#    ('atp_c', 1e-4, 1e-3),\n",
    "    ('adp_c', 4e-4, 7e-4),\n",
    "    ('atp_c', 2e-4, 3e-4)\n",
    "]"
   ]
  },
  {
   "cell_type": "code",
   "execution_count": 3,
   "metadata": {},
   "outputs": [],
   "source": [
    "# Load the cobra_model\n",
    "# I haven't been able to curl these files from the repo, \n",
    "# I guess it's something related to git lfs\n",
    "cobra_model = import_matlab_model('small_ecoli.mat')\n",
    "cobra_model.solver = \"glpk\""
   ]
  },
  {
   "cell_type": "code",
   "execution_count": 4,
   "metadata": {},
   "outputs": [
    {
     "name": "stdout",
     "output_type": "stream",
     "text": [
      "CPU times: user 305 ms, sys: 83.6 ms, total: 389 ms\n",
      "Wall time: 486 ms\n"
     ]
    }
   ],
   "source": [
    "%%time\n",
    "# Load reaction DB\n",
    "thermo_data = load_thermoDB('thermo_data.thermodb') "
   ]
  },
  {
   "cell_type": "code",
   "execution_count": 5,
   "metadata": {},
   "outputs": [
    {
     "name": "stderr",
     "output_type": "stream",
     "text": [
      "2019-11-21 09:14:35,577 - thermomodel_new - INFO - # Model initialized with units kcal/mol and temperature 298.15 K\n",
      "2019-11-21 09:14:35,578 - thermomodel_new - INFO - # Model preparation starting...\n"
     ]
    },
    {
     "name": "stdout",
     "output_type": "stream",
     "text": [
      "Warning : NULL/U\n",
      "Warning : NULL/L\n",
      "Warning : NULL/L\n",
      "Warning : NULL/U\n",
      "Warning : NULL/L\n",
      "Warning : NULL/L\n",
      "Warning : NULL/U\n",
      "Warning : NULL/L\n",
      "Warning : NULL/L\n",
      "Warning : NULL/U\n",
      "Warning : NULL/L\n",
      "Warning : NULL/L\n",
      "Warning : NULL/U\n",
      "Warning : NULL/L\n",
      "Warning : NULL/L\n",
      "Warning : NULL/U\n",
      "Warning : NULL/L\n",
      "Warning : NULL/L\n",
      "Warning : NULL/U\n",
      "Warning : NULL/L\n",
      "Warning : NULL/L\n",
      "Warning : NULL/U\n",
      "Warning : NULL/L\n",
      "Warning : NULL/L\n",
      "Warning : NULL/U\n",
      "Warning : NULL/L\n",
      "Warning : NULL/L\n",
      "Warning : NULL/U\n",
      "Warning : NULL/L\n",
      "Warning : NULL/L\n",
      "Warning : NULL/U\n",
      "Warning : NULL/L\n",
      "Warning : NULL/L\n",
      "Warning : NULL/U\n",
      "Warning : NULL/L\n",
      "Warning : NULL/L\n",
      "Warning : NULL/U\n",
      "Warning : NULL/L\n",
      "Warning : NULL/L\n",
      "Warning : NULL/U\n",
      "Warning : NULL/L\n",
      "Warning : NULL/L\n",
      "Warning : NULL/U\n",
      "Warning : NULL/L\n",
      "Warning : NULL/L\n",
      "Warning : NULL/U\n",
      "Warning : NULL/L\n",
      "Warning : NULL/L\n",
      "Warning : NULL/U\n",
      "Warning : NULL/L\n",
      "Warning : NULL/L\n",
      "Warning : NULL/U\n",
      "Warning : NULL/L\n",
      "Warning : NULL/L\n",
      "Warning : NULL/U\n",
      "Warning : NULL/L\n",
      "Warning : NULL/L\n",
      "Warning : NULL/U\n",
      "Warning : NULL/L\n",
      "Warning : NULL/L\n",
      "Warning : NULL/U\n",
      "Warning : NULL/L\n",
      "Warning : NULL/L\n",
      "Warning : NULL/U\n",
      "Warning : NULL/L\n",
      "Warning : NULL/L\n",
      "Warning : NULL/U\n",
      "Warning : NULL/L\n",
      "Warning : NULL/L\n",
      "Warning : NULL/U\n",
      "Warning : NULL/L\n",
      "Warning : NULL/L\n",
      "Warning : NULL/U\n",
      "Warning : NULL/L\n",
      "Warning : NULL/L\n",
      "Warning : NULL/U\n",
      "Warning : NULL/L\n",
      "Warning : NULL/L\n",
      "Warning : NULL/U\n",
      "Warning : NULL/L\n",
      "Warning : NULL/L\n",
      "Warning : NULL/U\n",
      "Warning : NULL/L\n",
      "Warning : NULL/L\n",
      "Warning : NULL/U\n",
      "Warning : NULL/L\n",
      "Warning : NULL/L\n",
      "Warning : NULL/U\n",
      "Warning : NULL/L\n",
      "Warning : NULL/L\n",
      "Warning : NULL/U\n",
      "Warning : NULL/L\n",
      "Warning : NULL/L\n",
      "Warning : NULL/U\n",
      "Warning : NULL/L\n",
      "Warning : NULL/L\n"
     ]
    },
    {
     "name": "stderr",
     "output_type": "stream",
     "text": [
      "2019-11-21 09:14:36,317 - thermomodel_new - INFO - # Model preparation done.\n",
      "2019-11-21 09:14:36,318 - thermomodel_new - INFO - # Model conversion starting...\n"
     ]
    },
    {
     "name": "stdout",
     "output_type": "stream",
     "text": [
      "Warning : NULL/U\n",
      "Warning : NULL/L\n",
      "Warning : NULL/L\n",
      "Warning : NULL/U\n",
      "Warning : NULL/L\n",
      "Warning : NULL/L\n",
      "Warning : NULL/U\n",
      "Warning : NULL/L\n",
      "Warning : NULL/L\n",
      "Warning : NULL/U\n",
      "Warning : NULL/L\n",
      "Warning : NULL/L\n",
      "Warning : NULL/U\n",
      "Warning : NULL/L\n",
      "Warning : NULL/L\n",
      "Warning : NULL/U\n",
      "Warning : NULL/L\n",
      "Warning : NULL/L\n",
      "Warning : NULL/U\n",
      "Warning : NULL/L\n",
      "Warning : NULL/L\n",
      "Warning : NULL/U\n",
      "Warning : NULL/L\n",
      "Warning : NULL/L\n",
      "Warning : NULL/U\n",
      "Warning : NULL/L\n",
      "Warning : NULL/L\n",
      "Warning : NULL/U\n",
      "Warning : NULL/L\n",
      "Warning : NULL/L\n",
      "Warning : NULL/U\n",
      "Warning : NULL/L\n",
      "Warning : NULL/L\n",
      "Warning : NULL/U\n",
      "Warning : NULL/L\n",
      "Warning : NULL/L\n",
      "Warning : NULL/U\n",
      "Warning : NULL/L\n",
      "Warning : NULL/L\n",
      "Warning : NULL/U\n",
      "Warning : NULL/L\n",
      "Warning : NULL/L\n",
      "Warning : NULL/U\n",
      "Warning : NULL/L\n",
      "Warning : NULL/L\n",
      "Warning : NULL/U\n",
      "Warning : NULL/L\n",
      "Warning : NULL/L\n",
      "Warning : NULL/U\n",
      "Warning : NULL/L\n",
      "Warning : NULL/L\n",
      "Warning : NULL/U\n",
      "Warning : NULL/L\n",
      "Warning : NULL/L\n",
      "Warning : NULL/U\n",
      "Warning : NULL/L\n",
      "Warning : NULL/L\n",
      "Warning : NULL/U\n",
      "Warning : NULL/L\n",
      "Warning : NULL/L\n",
      "Warning : NULL/U\n",
      "Warning : NULL/L\n",
      "Warning : NULL/L\n",
      "Warning : NULL/U\n",
      "Warning : NULL/L\n",
      "Warning : NULL/L\n",
      "Warning : NULL/U\n",
      "Warning : NULL/L\n",
      "Warning : NULL/L\n",
      "Warning : NULL/U\n",
      "Warning : NULL/L\n",
      "Warning : NULL/L\n"
     ]
    },
    {
     "name": "stderr",
     "output_type": "stream",
     "text": [
      "2019-11-21 09:14:38,037 - thermomodel_new - INFO - # Model conversion done.\n",
      "2019-11-21 09:14:38,037 - thermomodel_new - INFO - # Updating cobra_model variables...\n",
      "2019-11-21 09:14:38,051 - thermomodel_new - INFO - # cobra_model variables are up-to-date\n"
     ]
    },
    {
     "name": "stdout",
     "output_type": "stream",
     "text": [
      "                value\n",
      "key                  \n",
      "name              new\n",
      "description       new\n",
      "num constraints  3349\n",
      "num variables    3482\n",
      "num metabolites   304\n",
      "num reactions     599\n",
      "                           value\n",
      "key                             \n",
      "num metabolites(thermo)      300\n",
      "num reactions(thermo)        418\n",
      "pct metabolites(thermo)  98.6842\n",
      "pct reactions(thermo)     69.783\n",
      "CPU times: user 2.65 s, sys: 100 ms, total: 2.75 s\n",
      "Wall time: 2.95 s\n"
     ]
    }
   ],
   "source": [
    "%%time\n",
    "with warnings.catch_warnings():\n",
    "    warnings.simplefilter(\"ignore\") # warnings aren't warnings...\n",
    "    # Initialize the thermodynamic model\n",
    "    tmodel = pytfa.ThermoModel(thermo_data, cobra_model)\n",
    "    tmodel.solver = GLPK\n",
    "    tmodel.prepare()\n",
    "    tmodel.convert(add_displacement = False)\n",
    "    tmodel.print_info()"
   ]
  },
  {
   "cell_type": "code",
   "execution_count": 6,
   "metadata": {},
   "outputs": [
    {
     "data": {
      "text/html": [
       "<strong><em>Optimal</em> solution with objective value 0.811</strong><br><div>\n",
       "<style scoped>\n",
       "    .dataframe tbody tr th:only-of-type {\n",
       "        vertical-align: middle;\n",
       "    }\n",
       "\n",
       "    .dataframe tbody tr th {\n",
       "        vertical-align: top;\n",
       "    }\n",
       "\n",
       "    .dataframe thead th {\n",
       "        text-align: right;\n",
       "    }\n",
       "</style>\n",
       "<table border=\"1\" class=\"dataframe\">\n",
       "  <thead>\n",
       "    <tr style=\"text-align: right;\">\n",
       "      <th></th>\n",
       "      <th>fluxes</th>\n",
       "      <th>reduced_costs</th>\n",
       "    </tr>\n",
       "  </thead>\n",
       "  <tbody>\n",
       "    <tr>\n",
       "      <td>DM_4CRSOL</td>\n",
       "      <td>0.000181</td>\n",
       "      <td>None</td>\n",
       "    </tr>\n",
       "    <tr>\n",
       "      <td>DM_5DRIB</td>\n",
       "      <td>0.000187</td>\n",
       "      <td>None</td>\n",
       "    </tr>\n",
       "    <tr>\n",
       "      <td>DM_AMOB</td>\n",
       "      <td>0.000002</td>\n",
       "      <td>None</td>\n",
       "    </tr>\n",
       "    <tr>\n",
       "      <td>DM_MTHTHF</td>\n",
       "      <td>0.001087</td>\n",
       "      <td>None</td>\n",
       "    </tr>\n",
       "    <tr>\n",
       "      <td>Ec_biomass_iJO1366_WT_53p95M</td>\n",
       "      <td>0.810997</td>\n",
       "      <td>None</td>\n",
       "    </tr>\n",
       "    <tr>\n",
       "      <td>...</td>\n",
       "      <td>...</td>\n",
       "      <td>...</td>\n",
       "    </tr>\n",
       "    <tr>\n",
       "      <td>LMPD_250_trp-L_c</td>\n",
       "      <td>0.044795</td>\n",
       "      <td>None</td>\n",
       "    </tr>\n",
       "    <tr>\n",
       "      <td>LMPD_251_tyr-L_c</td>\n",
       "      <td>0.108668</td>\n",
       "      <td>None</td>\n",
       "    </tr>\n",
       "    <tr>\n",
       "      <td>LMPD_252_udcpdp_c</td>\n",
       "      <td>0.000045</td>\n",
       "      <td>None</td>\n",
       "    </tr>\n",
       "    <tr>\n",
       "      <td>LMPD_253_utp_c</td>\n",
       "      <td>0.113622</td>\n",
       "      <td>None</td>\n",
       "    </tr>\n",
       "    <tr>\n",
       "      <td>LMPD_254_val-L_c</td>\n",
       "      <td>0.333469</td>\n",
       "      <td>None</td>\n",
       "    </tr>\n",
       "  </tbody>\n",
       "</table>\n",
       "<p>599 rows × 2 columns</p>\n",
       "</div>"
      ],
      "text/plain": [
       "<Solution 0.811 at 0x7f11bddc3c50>"
      ]
     },
     "execution_count": 6,
     "metadata": {},
     "output_type": "execute_result"
    }
   ],
   "source": [
    "sol_nomet = tmodel.optimize()\n",
    "sol_nomet"
   ]
  },
  {
   "cell_type": "code",
   "execution_count": 7,
   "metadata": {},
   "outputs": [
    {
     "name": "stdout",
     "output_type": "stream",
     "text": [
      "CPU times: user 32 µs, sys: 2 µs, total: 34 µs\n",
      "Wall time: 41 µs\n"
     ]
    },
    {
     "data": {
      "text/plain": [
       "[None, None, None]"
      ]
     },
     "execution_count": 7,
     "metadata": {},
     "output_type": "execute_result"
    }
   ],
   "source": [
    "%%time\n",
    "[apply_concentration_bound(measure, tmodel) for measure in metabolomics_data]"
   ]
  },
  {
   "cell_type": "markdown",
   "metadata": {},
   "source": [
    "Negligible."
   ]
  },
  {
   "cell_type": "code",
   "execution_count": 8,
   "metadata": {},
   "outputs": [
    {
     "name": "stdout",
     "output_type": "stream",
     "text": [
      "CPU times: user 10.1 s, sys: 61.3 ms, total: 10.2 s\n",
      "Wall time: 10.1 s\n"
     ]
    }
   ],
   "source": [
    "%%time\n",
    "sol_ori = tmodel.optimize()\n",
    "sol_ori"
   ]
  },
  {
   "cell_type": "code",
   "execution_count": 9,
   "metadata": {},
   "outputs": [
    {
     "name": "stdout",
     "output_type": "stream",
     "text": [
      "Sum of fluxes: 1141.4288279868517\n",
      "Sum of fluxes with metabolomics: 1141.4288279868517\n"
     ]
    }
   ],
   "source": [
    "print(f\"Sum of fluxes: {sum(sol_nomet.fluxes)}\")\n",
    "print(f\"Sum of fluxes with metabolomics: {sum(sol_ori.fluxes)}\")"
   ]
  },
  {
   "cell_type": "code",
   "execution_count": 10,
   "metadata": {
    "scrolled": true
   },
   "outputs": [
    {
     "data": {
      "text/plain": [
       "False"
      ]
     },
     "execution_count": 10,
     "metadata": {},
     "output_type": "execute_result"
    }
   ],
   "source": [
    "(sol_ori.fluxes != sol_nomet.fluxes).any()"
   ]
  },
  {
   "cell_type": "markdown",
   "metadata": {},
   "source": [
    "Metabolomics hasn't changed the solution at all."
   ]
  },
  {
   "cell_type": "code",
   "execution_count": 11,
   "metadata": {},
   "outputs": [
    {
     "name": "stdout",
     "output_type": "stream",
     "text": [
      "CPU times: user 90.5 ms, sys: 129 ms, total: 219 ms\n",
      "Wall time: 519 ms\n"
     ]
    }
   ],
   "source": [
    "%%time\n",
    "# FVA cobra\n",
    "fva_fluxes = flux_variability_analysis(cobra_model)"
   ]
  },
  {
   "cell_type": "code",
   "execution_count": 12,
   "metadata": {},
   "outputs": [],
   "source": [
    "# Perform variability analysis again\n",
    "# gets stuck in my computer\n",
    "#tva_fluxes_lc = variability_analysis(tmodel, kind='reactions')"
   ]
  },
  {
   "cell_type": "markdown",
   "metadata": {},
   "source": [
    "### Results\n",
    "Looks like the LP solving is the only demanding operation but it should be below 10 s running in the platform. The variability_analysis seems to be discarded for now: it perfroms a LP problem for every reaction in the model as an objective.\n",
    "\n",
    "The metabolomics constraints in the tutorial doesn't change at all the behaviour of the optimization.\n",
    "\n",
    "In my case, it takes longer than it should be because my computer freaks out with some infeasible solutions... Gurobi doesn't seem to work."
   ]
  },
  {
   "cell_type": "markdown",
   "metadata": {},
   "source": [
    "# Can we use pyTFA just with $\\Delta G_r$ ?\n",
    "Test it really fast using the small_ecoli model.  \n",
    "\n",
    "__TL;DR__: the `ThermoModel` returns a similar solution but not the same as the previous one. Also, the changes before and after the metabolomics constraints are appreciated in this case."
   ]
  },
  {
   "cell_type": "code",
   "execution_count": 13,
   "metadata": {},
   "outputs": [
    {
     "data": {
      "text/plain": [
       "{'isTrans': False,\n",
       " 'computed': True,\n",
       " 'deltaGR': -8.173542457764427,\n",
       " 'deltaGRerr': 1.5972194589348077}"
      ]
     },
     "execution_count": 13,
     "metadata": {},
     "output_type": "execute_result"
    }
   ],
   "source": [
    "tmodel.reactions.ACALD.thermo"
   ]
  },
  {
   "cell_type": "code",
   "execution_count": 14,
   "metadata": {},
   "outputs": [],
   "source": [
    "reac_thermo = {reac.id: reac.thermo for reac in tmodel.reactions}"
   ]
  },
  {
   "cell_type": "code",
   "execution_count": 15,
   "metadata": {},
   "outputs": [],
   "source": [
    "def convert_reac_data(model, reac_data):\n",
    "    \"\"\"\n",
    "    Convert the cobrapy `model` with pyTFA just by using \n",
    "    reaction data `reac_data`.\n",
    "    \"\"\"\n",
    "    thermodata = {\n",
    "        'units': 'kcal/mol',\n",
    "        'cues' : None,\n",
    "        'metabolites' : None\n",
    "    }\n",
    "    tmodel = pytfa.ThermoModel(thermodata, model = cobra_model)\n",
    "\n",
    "    # similarly to .prepare()\n",
    "    for met in tmodel.metabolites:\n",
    "        met.thermo = pytfa.thermo.MetaboliteThermo(None, None, None)\n",
    "    for reaction in tmodel.reactions:\n",
    "        reaction.thermo = reac_thermo[reaction.id]\n",
    "    tmodel.convert()\n",
    "\n",
    "    return tmodel"
   ]
  },
  {
   "cell_type": "code",
   "execution_count": 16,
   "metadata": {},
   "outputs": [
    {
     "name": "stderr",
     "output_type": "stream",
     "text": [
      "2019-11-21 09:15:03,153 - thermomodel_new - INFO - # Model initialized with units kcal/mol and temperature 298.15 K\n",
      "2019-11-21 09:15:03,155 - thermomodel_new - INFO - # Model conversion starting...\n",
      "2019-11-21 09:15:05,042 - thermomodel_new - INFO - # Model conversion done.\n",
      "2019-11-21 09:15:05,043 - thermomodel_new - INFO - # Updating cobra_model variables...\n",
      "2019-11-21 09:15:05,057 - thermomodel_new - INFO - # cobra_model variables are up-to-date\n"
     ]
    }
   ],
   "source": [
    "t_testm = convert_reac_data(cobra_model, reac_thermo)"
   ]
  },
  {
   "cell_type": "code",
   "execution_count": 17,
   "metadata": {},
   "outputs": [
    {
     "data": {
      "text/html": [
       "<strong><em>Optimal</em> solution with objective value 0.811</strong><br><div>\n",
       "<style scoped>\n",
       "    .dataframe tbody tr th:only-of-type {\n",
       "        vertical-align: middle;\n",
       "    }\n",
       "\n",
       "    .dataframe tbody tr th {\n",
       "        vertical-align: top;\n",
       "    }\n",
       "\n",
       "    .dataframe thead th {\n",
       "        text-align: right;\n",
       "    }\n",
       "</style>\n",
       "<table border=\"1\" class=\"dataframe\">\n",
       "  <thead>\n",
       "    <tr style=\"text-align: right;\">\n",
       "      <th></th>\n",
       "      <th>fluxes</th>\n",
       "      <th>reduced_costs</th>\n",
       "    </tr>\n",
       "  </thead>\n",
       "  <tbody>\n",
       "    <tr>\n",
       "      <td>DM_4CRSOL</td>\n",
       "      <td>0.000181</td>\n",
       "      <td>None</td>\n",
       "    </tr>\n",
       "    <tr>\n",
       "      <td>DM_5DRIB</td>\n",
       "      <td>0.000187</td>\n",
       "      <td>None</td>\n",
       "    </tr>\n",
       "    <tr>\n",
       "      <td>DM_AMOB</td>\n",
       "      <td>0.000002</td>\n",
       "      <td>None</td>\n",
       "    </tr>\n",
       "    <tr>\n",
       "      <td>DM_MTHTHF</td>\n",
       "      <td>0.001087</td>\n",
       "      <td>None</td>\n",
       "    </tr>\n",
       "    <tr>\n",
       "      <td>Ec_biomass_iJO1366_WT_53p95M</td>\n",
       "      <td>0.810956</td>\n",
       "      <td>None</td>\n",
       "    </tr>\n",
       "    <tr>\n",
       "      <td>...</td>\n",
       "      <td>...</td>\n",
       "      <td>...</td>\n",
       "    </tr>\n",
       "    <tr>\n",
       "      <td>LMPD_250_trp-L_c</td>\n",
       "      <td>0.044792</td>\n",
       "      <td>None</td>\n",
       "    </tr>\n",
       "    <tr>\n",
       "      <td>LMPD_251_tyr-L_c</td>\n",
       "      <td>0.108662</td>\n",
       "      <td>None</td>\n",
       "    </tr>\n",
       "    <tr>\n",
       "      <td>LMPD_252_udcpdp_c</td>\n",
       "      <td>0.000045</td>\n",
       "      <td>None</td>\n",
       "    </tr>\n",
       "    <tr>\n",
       "      <td>LMPD_253_utp_c</td>\n",
       "      <td>0.113616</td>\n",
       "      <td>None</td>\n",
       "    </tr>\n",
       "    <tr>\n",
       "      <td>LMPD_254_val-L_c</td>\n",
       "      <td>0.333452</td>\n",
       "      <td>None</td>\n",
       "    </tr>\n",
       "  </tbody>\n",
       "</table>\n",
       "<p>599 rows × 2 columns</p>\n",
       "</div>"
      ],
      "text/plain": [
       "<Solution 0.811 at 0x7f11bc5f6668>"
      ]
     },
     "execution_count": 17,
     "metadata": {},
     "output_type": "execute_result"
    }
   ],
   "source": [
    "sol = t_testm.optimize()\n",
    "sol"
   ]
  },
  {
   "cell_type": "code",
   "execution_count": 18,
   "metadata": {},
   "outputs": [
    {
     "data": {
      "text/plain": [
       "1190.6526819344149"
      ]
     },
     "execution_count": 18,
     "metadata": {},
     "output_type": "execute_result"
    }
   ],
   "source": [
    "sum(sol.fluxes)"
   ]
  },
  {
   "cell_type": "code",
   "execution_count": 19,
   "metadata": {},
   "outputs": [
    {
     "data": {
      "text/html": [
       "<strong><em>Optimal</em> solution with objective value 0.811</strong><br><div>\n",
       "<style scoped>\n",
       "    .dataframe tbody tr th:only-of-type {\n",
       "        vertical-align: middle;\n",
       "    }\n",
       "\n",
       "    .dataframe tbody tr th {\n",
       "        vertical-align: top;\n",
       "    }\n",
       "\n",
       "    .dataframe thead th {\n",
       "        text-align: right;\n",
       "    }\n",
       "</style>\n",
       "<table border=\"1\" class=\"dataframe\">\n",
       "  <thead>\n",
       "    <tr style=\"text-align: right;\">\n",
       "      <th></th>\n",
       "      <th>fluxes</th>\n",
       "      <th>reduced_costs</th>\n",
       "    </tr>\n",
       "  </thead>\n",
       "  <tbody>\n",
       "    <tr>\n",
       "      <td>DM_4CRSOL</td>\n",
       "      <td>0.000181</td>\n",
       "      <td>None</td>\n",
       "    </tr>\n",
       "    <tr>\n",
       "      <td>DM_5DRIB</td>\n",
       "      <td>0.000187</td>\n",
       "      <td>None</td>\n",
       "    </tr>\n",
       "    <tr>\n",
       "      <td>DM_AMOB</td>\n",
       "      <td>0.000002</td>\n",
       "      <td>None</td>\n",
       "    </tr>\n",
       "    <tr>\n",
       "      <td>DM_MTHTHF</td>\n",
       "      <td>0.001087</td>\n",
       "      <td>None</td>\n",
       "    </tr>\n",
       "    <tr>\n",
       "      <td>Ec_biomass_iJO1366_WT_53p95M</td>\n",
       "      <td>0.810956</td>\n",
       "      <td>None</td>\n",
       "    </tr>\n",
       "    <tr>\n",
       "      <td>...</td>\n",
       "      <td>...</td>\n",
       "      <td>...</td>\n",
       "    </tr>\n",
       "    <tr>\n",
       "      <td>LMPD_250_trp-L_c</td>\n",
       "      <td>0.044792</td>\n",
       "      <td>None</td>\n",
       "    </tr>\n",
       "    <tr>\n",
       "      <td>LMPD_251_tyr-L_c</td>\n",
       "      <td>0.108662</td>\n",
       "      <td>None</td>\n",
       "    </tr>\n",
       "    <tr>\n",
       "      <td>LMPD_252_udcpdp_c</td>\n",
       "      <td>0.000045</td>\n",
       "      <td>None</td>\n",
       "    </tr>\n",
       "    <tr>\n",
       "      <td>LMPD_253_utp_c</td>\n",
       "      <td>0.113616</td>\n",
       "      <td>None</td>\n",
       "    </tr>\n",
       "    <tr>\n",
       "      <td>LMPD_254_val-L_c</td>\n",
       "      <td>0.333452</td>\n",
       "      <td>None</td>\n",
       "    </tr>\n",
       "  </tbody>\n",
       "</table>\n",
       "<p>599 rows × 2 columns</p>\n",
       "</div>"
      ],
      "text/plain": [
       "<Solution 0.811 at 0x7f11bc5f92e8>"
      ]
     },
     "execution_count": 19,
     "metadata": {},
     "output_type": "execute_result"
    }
   ],
   "source": [
    "[apply_concentration_bound(measure, t_testm) for measure in metabolomics_data]\n",
    "sol_mets = t_testm.optimize()\n",
    "sol_mets"
   ]
  },
  {
   "cell_type": "code",
   "execution_count": 20,
   "metadata": {},
   "outputs": [
    {
     "name": "stdout",
     "output_type": "stream",
     "text": [
      "Custom preparation\n",
      "------------------\n",
      "Sum of fluxes: 1190.6526819344149\n",
      "Sum of fluxes with metabolomics: 1190.3929131283878\n",
      "\n",
      "Built-in prepare method\n",
      "-----------------------\n",
      "Sum of fluxes: 1141.4288279868517\n",
      "Sum of fluxes with metabolomics: 1141.4288279868517\n"
     ]
    }
   ],
   "source": [
    "print(f\"Custom preparation\\n------------------\\nSum of fluxes: {sum(sol.fluxes)}\")\n",
    "print(f\"Sum of fluxes with metabolomics: {sum(sol_mets.fluxes)}\")\n",
    "print(f\"\\nBuilt-in prepare method\\n-----------------------\\nSum of fluxes: {sum(sol_nomet.fluxes)}\")\n",
    "print(f\"Sum of fluxes with metabolomics: {sum(sol_ori.fluxes)}\")"
   ]
  },
  {
   "cell_type": "code",
   "execution_count": 21,
   "metadata": {},
   "outputs": [
    {
     "data": {
      "text/plain": [
       "False"
      ]
     },
     "execution_count": 21,
     "metadata": {},
     "output_type": "execute_result"
    }
   ],
   "source": [
    "(sol == sol_mets.fluxes).any()"
   ]
  },
  {
   "cell_type": "markdown",
   "metadata": {},
   "source": [
    "Before and after the metabolomics integration, the solutions are different for every parameter and a bit lower. Furthermore, both solutions are different than those of the tmodel with the built-in `.prepare()` method. Still, the new solutions are more similar to the tmodel's than to the plain cobra model."
   ]
  },
  {
   "cell_type": "code",
   "execution_count": 22,
   "metadata": {},
   "outputs": [
    {
     "data": {
      "text/plain": [
       "143.13836864239119"
      ]
     },
     "execution_count": 22,
     "metadata": {},
     "output_type": "execute_result"
    }
   ],
   "source": [
    "sol_plain = cobra_model.optimize()\n",
    "sum(sol_plain.fluxes)"
   ]
  },
  {
   "cell_type": "markdown",
   "metadata": {},
   "source": [
    "# Can we repoduce the pyTFA results just with $\\Delta G_r$ and pH?\n",
    "It was expected that the results would vary since pH "
   ]
  },
  {
   "cell_type": "code",
   "execution_count": 24,
   "metadata": {},
   "outputs": [
    {
     "data": {
      "text/plain": [
       "{'id': 'cpd00024', 'pKa': [2.66, 3.87], 'error': 'Nil', 'deltaGf_std': -188.9, 'deltaGf_err': 0.38211, 'mass': 144.0, 'nH_std': 4, 'charge_std': -2, 'struct_cues': {'WCOOn': 2, 'OCCO': 1, 'Origin': 1, 'WketoneW': 1, 'WCH2W': 2}, 'deltaGf_tr': -147.99995241209606, 'pH': 7.5, 'ionicStr': 0.25}"
      ]
     },
     "execution_count": 24,
     "metadata": {},
     "output_type": "execute_result"
    }
   ],
   "source": [
    "tmodel.metabolites.akg_c.thermo"
   ]
  },
  {
   "cell_type": "code",
   "execution_count": 31,
   "metadata": {},
   "outputs": [],
   "source": [
    "def convert_reac_data_and_mets(model, reac_data, real_model):\n",
    "    \"\"\"\n",
    "    Convert the cobrapy `model` with pyTFA just by using \n",
    "    reaction data `reac_data`.\n",
    "    \"\"\"\n",
    "    thermodata = {\n",
    "        'units': 'kcal/mol',\n",
    "        'cues' : None,\n",
    "        'metabolites' : None\n",
    "    }\n",
    "    tmodel = pytfa.ThermoModel(thermodata, model = cobra_model)\n",
    "\n",
    "    # similarly to .prepare()\n",
    "    for met in tmodel.metabolites:\n",
    "        pH =  real_model.metabolites.get_by_id(met.id).thermo[\"pH\"]\n",
    "        ionicStr = real_model.metabolites.get_by_id(met.id).thermo[\"ionicStr\"]\n",
    "        met.thermo = pytfa.thermo.MetaboliteThermo(None, pH=pH, ionicStr=ionicStr)\n",
    "    \n",
    "    for reaction in tmodel.reactions:\n",
    "        reaction.thermo = reac_thermo[reaction.id]\n",
    "    tmodel.convert()\n",
    "\n",
    "    return tmodel\n",
    "\n"
   ]
  },
  {
   "cell_type": "code",
   "execution_count": 32,
   "metadata": {},
   "outputs": [
    {
     "name": "stderr",
     "output_type": "stream",
     "text": [
      "2019-11-21 09:26:47,350 - thermomodel_new - INFO - # Model initialized with units kcal/mol and temperature 298.15 K\n",
      "2019-11-21 09:26:47,353 - thermomodel_new - INFO - # Model conversion starting...\n",
      "2019-11-21 09:26:49,190 - thermomodel_new - INFO - # Model conversion done.\n",
      "2019-11-21 09:26:49,191 - thermomodel_new - INFO - # Updating cobra_model variables...\n",
      "2019-11-21 09:26:49,204 - thermomodel_new - INFO - # cobra_model variables are up-to-date\n"
     ]
    }
   ],
   "source": [
    "t_test2m = convert_reac_data_and_mets(cobra_model, reac_thermo, tmodel)"
   ]
  },
  {
   "cell_type": "code",
   "execution_count": 34,
   "metadata": {},
   "outputs": [
    {
     "data": {
      "text/html": [
       "<strong><em>Optimal</em> solution with objective value 0.811</strong><br><div>\n",
       "<style scoped>\n",
       "    .dataframe tbody tr th:only-of-type {\n",
       "        vertical-align: middle;\n",
       "    }\n",
       "\n",
       "    .dataframe tbody tr th {\n",
       "        vertical-align: top;\n",
       "    }\n",
       "\n",
       "    .dataframe thead th {\n",
       "        text-align: right;\n",
       "    }\n",
       "</style>\n",
       "<table border=\"1\" class=\"dataframe\">\n",
       "  <thead>\n",
       "    <tr style=\"text-align: right;\">\n",
       "      <th></th>\n",
       "      <th>fluxes</th>\n",
       "      <th>reduced_costs</th>\n",
       "    </tr>\n",
       "  </thead>\n",
       "  <tbody>\n",
       "    <tr>\n",
       "      <td>DM_4CRSOL</td>\n",
       "      <td>0.000181</td>\n",
       "      <td>None</td>\n",
       "    </tr>\n",
       "    <tr>\n",
       "      <td>DM_5DRIB</td>\n",
       "      <td>0.000187</td>\n",
       "      <td>None</td>\n",
       "    </tr>\n",
       "    <tr>\n",
       "      <td>DM_AMOB</td>\n",
       "      <td>0.000002</td>\n",
       "      <td>None</td>\n",
       "    </tr>\n",
       "    <tr>\n",
       "      <td>DM_MTHTHF</td>\n",
       "      <td>0.001087</td>\n",
       "      <td>None</td>\n",
       "    </tr>\n",
       "    <tr>\n",
       "      <td>Ec_biomass_iJO1366_WT_53p95M</td>\n",
       "      <td>0.810956</td>\n",
       "      <td>None</td>\n",
       "    </tr>\n",
       "    <tr>\n",
       "      <td>...</td>\n",
       "      <td>...</td>\n",
       "      <td>...</td>\n",
       "    </tr>\n",
       "    <tr>\n",
       "      <td>LMPD_250_trp-L_c</td>\n",
       "      <td>0.044792</td>\n",
       "      <td>None</td>\n",
       "    </tr>\n",
       "    <tr>\n",
       "      <td>LMPD_251_tyr-L_c</td>\n",
       "      <td>0.108662</td>\n",
       "      <td>None</td>\n",
       "    </tr>\n",
       "    <tr>\n",
       "      <td>LMPD_252_udcpdp_c</td>\n",
       "      <td>0.000045</td>\n",
       "      <td>None</td>\n",
       "    </tr>\n",
       "    <tr>\n",
       "      <td>LMPD_253_utp_c</td>\n",
       "      <td>0.113616</td>\n",
       "      <td>None</td>\n",
       "    </tr>\n",
       "    <tr>\n",
       "      <td>LMPD_254_val-L_c</td>\n",
       "      <td>0.333452</td>\n",
       "      <td>None</td>\n",
       "    </tr>\n",
       "  </tbody>\n",
       "</table>\n",
       "<p>599 rows × 2 columns</p>\n",
       "</div>"
      ],
      "text/plain": [
       "<Solution 0.811 at 0x7f11bbb4b4e0>"
      ]
     },
     "execution_count": 34,
     "metadata": {},
     "output_type": "execute_result"
    }
   ],
   "source": [
    "tweak_sol = t_test2m.optimize()\n",
    "tweak_sol"
   ]
  },
  {
   "cell_type": "code",
   "execution_count": 35,
   "metadata": {},
   "outputs": [
    {
     "name": "stdout",
     "output_type": "stream",
     "text": [
      "Sum of fluxes with pH and ionic strength -> 1190.6526819344149\n",
      "Are solutions equal to the built-in solution -> True\n"
     ]
    }
   ],
   "source": [
    "print(f\"Sum of fluxes with pH and ionic strength -> {sum(tweak_sol.fluxes)}\")\n",
    "print(f\"Are solutions equal to the built-in solution -> {(tweak_sol.fluxes != sol_ori).any()}\")"
   ]
  }
 ],
 "metadata": {
  "kernelspec": {
   "display_name": "Python 3",
   "language": "python",
   "name": "python3"
  },
  "language_info": {
   "codemirror_mode": {
    "name": "ipython",
    "version": 3
   },
   "file_extension": ".py",
   "mimetype": "text/x-python",
   "name": "python",
   "nbconvert_exporter": "python",
   "pygments_lexer": "ipython3",
   "version": "3.6.8"
  }
 },
 "nbformat": 4,
 "nbformat_minor": 2
}
