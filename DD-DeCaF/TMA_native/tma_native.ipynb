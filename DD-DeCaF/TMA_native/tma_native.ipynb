{
 "cells": [
  {
   "cell_type": "markdown",
   "metadata": {},
   "source": [
    "# Test of native implementation of TMA\n",
    "\n",
    "## Import test subjects"
   ]
  },
  {
   "cell_type": "code",
   "execution_count": 1,
   "metadata": {},
   "outputs": [],
   "source": [
    "import cobra\n",
    "model = cobra.io.read_sbml_model(\"iAB_RBC_283.xml\")\n",
    "model.solver = \"glpk\""
   ]
  },
  {
   "cell_type": "markdown",
   "metadata": {},
   "source": [
    "Equilibrator loading hold an important weight on the total time of execution"
   ]
  },
  {
   "cell_type": "code",
   "execution_count": 2,
   "metadata": {},
   "outputs": [
    {
     "name": "stdout",
     "output_type": "stream",
     "text": [
      "Downloading package metadata...\n",
      "Fragments already downloaded\n",
      "Downloading package metadata...\n",
      "Fragments already downloaded\n",
      "CPU times: user 9.05 s, sys: 690 ms, total: 9.74 s\n",
      "Wall time: 7.68 s\n"
     ]
    }
   ],
   "source": [
    "%%time\n",
    "import tma"
   ]
  },
  {
   "cell_type": "markdown",
   "metadata": {},
   "source": [
    "Test whether the compatibility equilibrator_api feature is working properly."
   ]
  },
  {
   "cell_type": "code",
   "execution_count": 3,
   "metadata": {},
   "outputs": [
    {
     "name": "stdout",
     "output_type": "stream",
     "text": [
      "Number of reactions that aren't transporters: 370\n"
     ]
    }
   ],
   "source": [
    "print(f\"Number of reactions that aren't transporters: {len(list((filter(lambda x: not tma.is_trans(x), model.reactions))))}\")"
   ]
  },
  {
   "cell_type": "code",
   "execution_count": 4,
   "metadata": {},
   "outputs": [
    {
     "data": {
      "text/plain": [
       "{'bigg.metabolite': 'glc__D',\n",
       " 'biocyc': 'META:Glucopyranose',\n",
       " 'chebi': ['CHEBI:12965', 'CHEBI:17634', 'CHEBI:20999', 'CHEBI:4167'],\n",
       " 'hmdb': ['HMDB00122', 'HMDB06564'],\n",
       " 'inchi_key': 'WQZGKKKJIJFFOK-GASJEMHNSA-N',\n",
       " 'kegg.compound': 'C00031',\n",
       " 'kegg.drug': 'D00009',\n",
       " 'metanetx.chemical': 'MNXM41',\n",
       " 'sabiork': ['1406', '1407'],\n",
       " 'seed.compound': ['cpd00027', 'cpd26821']}"
      ]
     },
     "execution_count": 4,
     "metadata": {},
     "output_type": "execute_result"
    }
   ],
   "source": [
    "model.metabolites.glc__D_c.annotation"
   ]
  },
  {
   "cell_type": "code",
   "execution_count": 5,
   "metadata": {},
   "outputs": [],
   "source": [
    "for met in model.metabolites:\n",
    "    if \"inchi_key\" in met.annotation:\n",
    "        met.annotation[\"inchikey\"] = met.annotation[\"inchi_key\"]"
   ]
  },
  {
   "cell_type": "code",
   "execution_count": 6,
   "metadata": {},
   "outputs": [
    {
     "name": "stdout",
     "output_type": "stream",
     "text": [
      "Downloading package metadata...\n",
      "Fragments already downloaded\n"
     ]
    },
    {
     "name": "stderr",
     "output_type": "stream",
     "text": [
      "Incomplete compound stoichiometry in 'GLYOX'.\n",
      "Incomplete compound stoichiometry in 'GLYt7_211_r'.\n",
      "Incomplete compound stoichiometry in 'GMPR'.\n",
      "Incomplete compound stoichiometry in 'GMPS2'.\n",
      "Incomplete compound stoichiometry in 'GND'.\n",
      "Incomplete compound stoichiometry in 'GPAM_hs_16_1'.\n",
      "Incomplete compound stoichiometry in 'GPAM_hs_18_3'.\n",
      "Incomplete compound stoichiometry in 'GPAM_hs_18_4'.\n",
      "Incomplete compound stoichiometry in 'GPDDA1'.\n",
      "Incomplete compound stoichiometry in 'GTHDH'.\n",
      "Incomplete compound stoichiometry in 'GTHOr'.\n",
      "Incomplete compound stoichiometry in 'GTHOXti2'.\n",
      "Incomplete compound stoichiometry in 'GTHPi'.\n",
      "Incomplete compound stoichiometry in 'GTHS'.\n",
      "Incomplete compound stoichiometry in 'GUACYC'.\n",
      "Incomplete compound stoichiometry in 'GUAPRT'.\n",
      "Incomplete compound stoichiometry in 'GULN3D'.\n",
      "Incomplete compound stoichiometry in 'GULND'.\n",
      "Incomplete compound stoichiometry in 'H2O2t'.\n",
      "Incomplete compound stoichiometry in 'H2Ot'.\n",
      "Incomplete compound stoichiometry in 'HCO3E'.\n",
      "Incomplete compound stoichiometry in 'HCO3_CLt'.\n",
      "Incomplete compound stoichiometry in 'HCYSte'.\n",
      "Incomplete compound stoichiometry in 'HDCAt'.\n",
      "Incomplete compound stoichiometry in 'HEX1'.\n",
      "Incomplete compound stoichiometry in 'HEX10'.\n",
      "Incomplete compound stoichiometry in 'HEX4'.\n",
      "Incomplete compound stoichiometry in 'HEX7'.\n",
      "Incomplete compound stoichiometry in 'HMBS'.\n",
      "Incomplete compound stoichiometry in 'HOXG'.\n",
      "Incomplete compound stoichiometry in 'HXPRT'.\n",
      "Incomplete compound stoichiometry in 'HYXNt'.\n",
      "Incomplete compound stoichiometry in 'Ht'.\n",
      "Incomplete compound stoichiometry in 'ICDHyr'.\n",
      "Incomplete compound stoichiometry in 'IMPD'.\n",
      "Incomplete compound stoichiometry in 'INSt'.\n",
      "Incomplete compound stoichiometry in 'UNK3'.\n",
      "Incomplete compound stoichiometry in '3MOXTYRESSte'.\n",
      "Incomplete compound stoichiometry in 'KCCt'.\n",
      "Incomplete compound stoichiometry in 'L_LACt2r'.\n",
      "Incomplete compound stoichiometry in 'LDH_L'.\n",
      "Incomplete compound stoichiometry in 'LEUKTRA4t'.\n",
      "Incomplete compound stoichiometry in '4PYRDX'.\n",
      "Incomplete compound stoichiometry in 'LEUKTRB4t'.\n",
      "Incomplete compound stoichiometry in 'LGTHL'.\n",
      "Incomplete compound stoichiometry in 'LNLCCPT1'.\n",
      "Incomplete compound stoichiometry in 'LNLCCPT2rbc'.\n",
      "Incomplete compound stoichiometry in '5AOPt2'.\n",
      "Incomplete compound stoichiometry in 'ACALDt'.\n",
      "Incomplete compound stoichiometry in 'PYDAMK'.\n",
      "Incomplete compound stoichiometry in 'LNLCt'.\n",
      "Incomplete compound stoichiometry in 'ACGAM2E'.\n",
      "Incomplete compound stoichiometry in 'LPASE_16_0'.\n",
      "Incomplete compound stoichiometry in 'LPASE_18_1'.\n",
      "Incomplete compound stoichiometry in 'LPASE_18_2'.\n",
      "Incomplete compound stoichiometry in 'PYDAMtr'.\n",
      "Incomplete compound stoichiometry in 'LTA4H'.\n",
      "Incomplete compound stoichiometry in 'MALt'.\n",
      "Incomplete compound stoichiometry in 'PYDXDH'.\n",
      "Incomplete compound stoichiometry in 'MAN6PI'.\n",
      "Incomplete compound stoichiometry in 'PYDXK'.\n",
      "Incomplete compound stoichiometry in 'PYDXNK'.\n",
      "Incomplete compound stoichiometry in 'ACGAMK'.\n",
      "Incomplete compound stoichiometry in 'ACNAM9PL'.\n",
      "Incomplete compound stoichiometry in 'ACNAMPH'.\n",
      "Incomplete compound stoichiometry in 'PYDXNtr'.\n",
      "Incomplete compound stoichiometry in 'PYDXPP'.\n",
      "Incomplete compound stoichiometry in 'MANt1r'.\n",
      "Incomplete compound stoichiometry in 'PYDXtr'.\n",
      "Incomplete compound stoichiometry in 'PYK'.\n",
      "Incomplete compound stoichiometry in 'ACNAMt2'.\n",
      "Incomplete compound stoichiometry in 'ACNML'.\n",
      "Incomplete compound stoichiometry in 'MDH'.\n",
      "Incomplete compound stoichiometry in 'MDRPD'.\n",
      "Incomplete compound stoichiometry in 'PYRt2'.\n",
      "Incomplete compound stoichiometry in 'RBFK'.\n",
      "Incomplete compound stoichiometry in 'ACP1_FMN'.\n",
      "Incomplete compound stoichiometry in 'ME2'.\n",
      "Incomplete compound stoichiometry in 'ACt2r'.\n",
      "Incomplete compound stoichiometry in 'ADA'.\n",
      "Incomplete compound stoichiometry in 'RIBFLVt3'.\n",
      "Incomplete compound stoichiometry in 'MEPIVESSte'.\n",
      "Incomplete compound stoichiometry in 'ADEt'.\n",
      "Incomplete compound stoichiometry in 'METAT'.\n",
      "Incomplete compound stoichiometry in 'ADK1'.\n",
      "Incomplete compound stoichiometry in 'ADMDC'.\n",
      "Incomplete compound stoichiometry in 'ADNCYC'.\n",
      "Incomplete compound stoichiometry in 'METtec'.\n",
      "Incomplete compound stoichiometry in 'ADNK1'.\n",
      "Incomplete compound stoichiometry in 'MGSA'.\n",
      "Incomplete compound stoichiometry in 'ADNt'.\n",
      "Incomplete compound stoichiometry in 'ADPT'.\n",
      "Incomplete compound stoichiometry in 'MI1345PP'.\n",
      "Incomplete compound stoichiometry in 'MI145PK'.\n",
      "Incomplete compound stoichiometry in 'ADRNLtu'.\n",
      "Incomplete compound stoichiometry in 'AGDC'.\n",
      "Incomplete compound stoichiometry in 'AGPAT1_16_0_16_1'.\n",
      "Incomplete compound stoichiometry in 'RIBFLVt3o'.\n",
      "Incomplete compound stoichiometry in 'MI145PP'.\n",
      "Incomplete compound stoichiometry in 'AGPAT1_16_0_18_3'.\n",
      "Incomplete compound stoichiometry in 'MI1PP'.\n",
      "Incomplete compound stoichiometry in 'AGPAT1_16_0_18_4'.\n",
      "Incomplete compound stoichiometry in 'AGPAT1_18_1_18_3'.\n",
      "Incomplete compound stoichiometry in 'RNMK'.\n",
      "Incomplete compound stoichiometry in 'AGPAT1_18_1_18_4'.\n",
      "Incomplete compound stoichiometry in 'AGPAT1_18_2_16_0'.\n",
      "Incomplete compound stoichiometry in 'AGPAT1_18_2_18_1'.\n",
      "Incomplete compound stoichiometry in 'RPE'.\n",
      "Incomplete compound stoichiometry in 'RPI'.\n",
      "Incomplete compound stoichiometry in 'SALMCOM'.\n",
      "Incomplete compound stoichiometry in 'MI1PS'.\n",
      "Incomplete compound stoichiometry in 'SALMCOM2'.\n",
      "Incomplete compound stoichiometry in 'SBTD_D2'.\n",
      "Incomplete compound stoichiometry in 'SBTR'.\n",
      "Incomplete compound stoichiometry in 'SPMDtex2'.\n",
      "Incomplete compound stoichiometry in 'AHCi'.\n",
      "Incomplete compound stoichiometry in 'ALAt4'.\n",
      "Incomplete compound stoichiometry in 'SPMS'.\n",
      "Incomplete compound stoichiometry in 'MTAP'.\n",
      "Incomplete compound stoichiometry in 'MTRI'.\n",
      "Incomplete compound stoichiometry in 'NACt'.\n",
      "Incomplete compound stoichiometry in 'SPRMS'.\n",
      "Incomplete compound stoichiometry in 'SPRMt2i'.\n",
      "Incomplete compound stoichiometry in 'ALDD2x'.\n",
      "Incomplete compound stoichiometry in 'NADK'.\n",
      "Incomplete compound stoichiometry in 'AMANK'.\n",
      "Incomplete compound stoichiometry in 'NADPN'.\n",
      "Incomplete compound stoichiometry in 'AMPDA'.\n",
      "Incomplete compound stoichiometry in 'NADS2'.\n",
      "Incomplete compound stoichiometry in 'AP4AH1'.\n",
      "Incomplete compound stoichiometry in 'ARD'.\n",
      "Incomplete compound stoichiometry in 'TALA'.\n",
      "Incomplete compound stoichiometry in 'TDP'.\n",
      "Incomplete compound stoichiometry in 'ARGN'.\n",
      "Incomplete compound stoichiometry in 'NAt'.\n",
      "Incomplete compound stoichiometry in 'THMMPtrbc'.\n",
      "Incomplete compound stoichiometry in 'NCAMUP'.\n",
      "Incomplete compound stoichiometry in 'ARGt5r'.\n",
      "Incomplete compound stoichiometry in 'ENOPH'.\n",
      "Incomplete compound stoichiometry in 'NDPK1'.\n",
      "Incomplete compound stoichiometry in 'ASCBt'.\n",
      "Incomplete compound stoichiometry in 'BANDMT'.\n",
      "Incomplete compound stoichiometry in 'THMTP'.\n",
      "Incomplete compound stoichiometry in 'THMtrbc'.\n",
      "Incomplete compound stoichiometry in 'NDPK2'.\n",
      "Incomplete compound stoichiometry in 'TKT1'.\n",
      "Incomplete compound stoichiometry in 'TKT2'.\n",
      "Incomplete compound stoichiometry in 'NDPK3'.\n",
      "Incomplete compound stoichiometry in 'NH4t3r'.\n",
      "Incomplete compound stoichiometry in 'TMDPK'.\n",
      "Incomplete compound stoichiometry in 'BILGLCURt'.\n",
      "Incomplete compound stoichiometry in 'BILIRBU'.\n",
      "Incomplete compound stoichiometry in 'TMDPPK'.\n",
      "Incomplete compound stoichiometry in 'NICRNS'.\n",
      "Incomplete compound stoichiometry in 'TPI'.\n",
      "Incomplete compound stoichiometry in 'UDPG4E'.\n",
      "Incomplete compound stoichiometry in 'UDPGD'.\n",
      "Incomplete compound stoichiometry in 'BILIRED'.\n",
      "Incomplete compound stoichiometry in 'C160CPT1'.\n",
      "Incomplete compound stoichiometry in 'NMNAT'.\n",
      "Incomplete compound stoichiometry in 'C160CPT2rbc'.\n",
      "Incomplete compound stoichiometry in 'C181CPT1'.\n",
      "Incomplete compound stoichiometry in 'C181CPT2rbc'.\n",
      "Incomplete compound stoichiometry in 'UDPGNP'.\n",
      "Incomplete compound stoichiometry in 'NNATr'.\n",
      "Incomplete compound stoichiometry in 'UGLT'.\n",
      "Incomplete compound stoichiometry in 'UMPK'.\n",
      "Incomplete compound stoichiometry in 'CA2t'.\n",
      "Incomplete compound stoichiometry in 'CAATPS'.\n",
      "Incomplete compound stoichiometry in 'NORMETEVESSte'.\n",
      "Incomplete compound stoichiometry in 'CAMPt'.\n",
      "Incomplete compound stoichiometry in 'UPP3S'.\n",
      "Incomplete compound stoichiometry in 'UPPDC1'.\n",
      "Incomplete compound stoichiometry in 'NP1'.\n"
     ]
    },
    {
     "name": "stderr",
     "output_type": "stream",
     "text": [
      "Incomplete compound stoichiometry in 'NRPPHRtu'.\n",
      "Incomplete compound stoichiometry in 'UREAt'.\n",
      "Incomplete compound stoichiometry in 'CAT'.\n",
      "Incomplete compound stoichiometry in 'NT5C'.\n",
      "Incomplete compound stoichiometry in 'URIt'.\n",
      "Incomplete compound stoichiometry in 'NTD11'.\n",
      "Incomplete compound stoichiometry in 'CDIPTr_16_0_16_0'.\n",
      "Incomplete compound stoichiometry in 'NTD2'.\n",
      "Incomplete compound stoichiometry in 'XYLK'.\n",
      "Incomplete compound stoichiometry in 'NMNHYD'.\n",
      "Incomplete compound stoichiometry in 'XYLTD_D'.\n",
      "Incomplete compound stoichiometry in 'XYLUR'.\n",
      "Incomplete compound stoichiometry in 'CDIPTr_16_0_18_1'.\n",
      "Incomplete compound stoichiometry in 'CDIPTr_16_0_18_2'.\n",
      "Incomplete compound stoichiometry in 'CDIPTr_18_1_18_1'.\n",
      "Incomplete compound stoichiometry in 'CDIPTr_18_1_18_2'.\n",
      "Incomplete compound stoichiometry in 'CDIPTr_18_2_16_0'.\n",
      "Incomplete compound stoichiometry in 'CDIPTr_18_2_18_1'.\n",
      "Incomplete compound stoichiometry in 'CDS_16_0_16_0'.\n",
      "Incomplete compound stoichiometry in 'CDS_16_0_18_1'.\n",
      "Incomplete compound stoichiometry in 'NTD7'.\n",
      "Incomplete compound stoichiometry in 'CDS_16_0_18_2'.\n",
      "Incomplete compound stoichiometry in 'CDS_18_1_18_1'.\n",
      "Incomplete compound stoichiometry in 'NTD9'.\n",
      "Incomplete compound stoichiometry in 'CDS_18_1_18_2'.\n",
      "Incomplete compound stoichiometry in 'CDS_18_2_16_0'.\n",
      "Incomplete compound stoichiometry in 'NaKt'.\n",
      "Incomplete compound stoichiometry in 'CDS_18_2_18_1'.\n",
      "Incomplete compound stoichiometry in 'CEPTC_16_0_16_0'.\n",
      "Incomplete compound stoichiometry in 'O2t'.\n",
      "Incomplete compound stoichiometry in 'CEPTC_16_0_18_1'.\n",
      "Incomplete compound stoichiometry in 'CEPTC_16_0_18_2'.\n",
      "Incomplete compound stoichiometry in 'CEPTC_18_1_18_1'.\n",
      "Incomplete compound stoichiometry in 'CEPTC_18_1_18_2'.\n",
      "Incomplete compound stoichiometry in 'CEPTC_18_2_16_0'.\n",
      "Incomplete compound stoichiometry in 'OCDCEAt'.\n",
      "Incomplete compound stoichiometry in 'CEPTC_18_2_18_1'.\n",
      "Incomplete compound stoichiometry in 'CEPTE_16_0_16_0'.\n",
      "Incomplete compound stoichiometry in 'CEPTE_16_0_18_1'.\n",
      "Incomplete compound stoichiometry in 'CEPTE_16_0_18_2'.\n",
      "Incomplete compound stoichiometry in 'OMPDC'.\n",
      "Incomplete compound stoichiometry in 'CEPTE_18_1_18_1'.\n",
      "Incomplete compound stoichiometry in 'CEPTE_18_1_18_2'.\n",
      "Incomplete compound stoichiometry in 'CEPTE_18_2_16_0'.\n",
      "Incomplete compound stoichiometry in 'CEPTE_18_2_18_1'.\n",
      "Incomplete compound stoichiometry in 'OPAH'.\n",
      "Incomplete compound stoichiometry in 'ORNDC'.\n",
      "Incomplete compound stoichiometry in 'CGMPt'.\n",
      "Incomplete compound stoichiometry in 'OROATP'.\n",
      "Incomplete compound stoichiometry in 'CHLP'.\n",
      "Incomplete compound stoichiometry in 'ORPT'.\n",
      "Incomplete compound stoichiometry in 'CHLPCTD'.\n",
      "Incomplete compound stoichiometry in 'PDE1'.\n",
      "Incomplete compound stoichiometry in 'CHOLK'.\n",
      "Incomplete compound stoichiometry in 'PDX5POi'.\n",
      "Incomplete compound stoichiometry in 'PDXPP'.\n",
      "Incomplete compound stoichiometry in 'CHOLt4'.\n",
      "Incomplete compound stoichiometry in 'PETHCT'.\n",
      "Incomplete compound stoichiometry in 'CO2t'.\n",
      "Incomplete compound stoichiometry in 'COt'.\n",
      "Incomplete compound stoichiometry in 'PFK'.\n",
      "Incomplete compound stoichiometry in 'PFK26'.\n",
      "Incomplete compound stoichiometry in 'CPPPGO'.\n",
      "Incomplete compound stoichiometry in 'CYStec'.\n",
      "Incomplete compound stoichiometry in 'PGI'.\n",
      "Incomplete compound stoichiometry in 'CYTK1'.\n",
      "Incomplete compound stoichiometry in 'PGK'.\n",
      "Incomplete compound stoichiometry in 'D_LACt2'.\n",
      "Incomplete compound stoichiometry in 'PGL'.\n",
      "Incomplete compound stoichiometry in 'DAGK_hs_16_0_16_0'.\n",
      "Incomplete compound stoichiometry in 'DAGK_hs_16_0_18_1'.\n",
      "Incomplete compound stoichiometry in 'PGM'.\n",
      "Incomplete compound stoichiometry in 'DAGK_hs_16_0_18_2'.\n",
      "Incomplete compound stoichiometry in 'PGMT'.\n",
      "Incomplete compound stoichiometry in 'DAGK_hs_18_1_18_1'.\n",
      "Incomplete compound stoichiometry in 'DAGK_hs_18_1_18_2'.\n",
      "Incomplete compound stoichiometry in 'DAGK_hs_18_2_16_0'.\n",
      "Incomplete compound stoichiometry in 'PHETA1'.\n",
      "Incomplete compound stoichiometry in 'DAGK_hs_18_2_18_1'.\n",
      "Incomplete compound stoichiometry in 'PHEtec'.\n",
      "Incomplete compound stoichiometry in 'PI45P5P_16_0_16_0'.\n",
      "Incomplete compound stoichiometry in 'DGULND'.\n",
      "Incomplete compound stoichiometry in 'PI45P5P_16_0_18_1'.\n",
      "Incomplete compound stoichiometry in 'DHAAt1r'.\n",
      "Incomplete compound stoichiometry in 'PI45P5P_16_0_18_2'.\n",
      "Incomplete compound stoichiometry in 'DM_nadh'.\n",
      "Incomplete compound stoichiometry in 'DOPAMT'.\n",
      "Incomplete compound stoichiometry in 'DOPAtu'.\n",
      "Incomplete compound stoichiometry in 'PI45P5P_18_1_18_1'.\n",
      "Incomplete compound stoichiometry in 'PI45P5P_18_1_18_2'.\n",
      "Incomplete compound stoichiometry in 'PI45P5P_18_2_16_0'.\n",
      "Incomplete compound stoichiometry in 'DPGM'.\n",
      "Incomplete compound stoichiometry in 'PI45P5P_18_2_18_1'.\n",
      "Incomplete compound stoichiometry in 'DPGase'.\n",
      "Incomplete compound stoichiometry in 'PI45PLC_16_0_16_0'.\n",
      "Incomplete compound stoichiometry in 'PI45PLC_16_0_18_1'.\n",
      "Incomplete compound stoichiometry in 'PI45PLC_16_0_18_2'.\n",
      "Incomplete compound stoichiometry in 'ENO'.\n",
      "Incomplete compound stoichiometry in 'PI45PLC_18_1_18_1'.\n",
      "Incomplete compound stoichiometry in 'ETHAK'.\n",
      "Incomplete compound stoichiometry in 'ETHAt'.\n",
      "Incomplete compound stoichiometry in 'PI45PLC_18_1_18_2'.\n",
      "Incomplete compound stoichiometry in 'PI45PLC_18_2_16_0'.\n",
      "Incomplete compound stoichiometry in 'PI45PLC_18_2_18_1'.\n",
      "Incomplete compound stoichiometry in 'ETHP'.\n",
      "Incomplete compound stoichiometry in 'PI4P5K_16_0_16_1'.\n",
      "Incomplete compound stoichiometry in 'PI4P5K_16_0_18_3'.\n",
      "Incomplete compound stoichiometry in 'FACOAL160'.\n",
      "Incomplete compound stoichiometry in 'PI4P5K_16_0_18_4'.\n",
      "Incomplete compound stoichiometry in 'FACOAL181'.\n",
      "Incomplete compound stoichiometry in 'PI4P5K_18_1_18_3'.\n",
      "Incomplete compound stoichiometry in 'FACOAL1821'.\n",
      "Incomplete compound stoichiometry in 'FADDP'.\n",
      "Incomplete compound stoichiometry in 'PI4P5K_18_1_18_4'.\n",
      "Incomplete compound stoichiometry in 'FBA'.\n",
      "Incomplete compound stoichiometry in 'FBP26'.\n",
      "Incomplete compound stoichiometry in 'FCLT'.\n",
      "Incomplete compound stoichiometry in 'PI4P5K_18_2_16_0'.\n",
      "Incomplete compound stoichiometry in 'PI4P5K_18_2_18_1'.\n",
      "Incomplete compound stoichiometry in 'FE2t'.\n",
      "Incomplete compound stoichiometry in 'PI4PLC_16_0_16_0'.\n",
      "Incomplete compound stoichiometry in 'PI4PLC_16_0_18_1'.\n",
      "Incomplete compound stoichiometry in 'FMNAT'.\n",
      "Incomplete compound stoichiometry in 'PI4PLC_16_0_18_2'.\n",
      "Incomplete compound stoichiometry in 'PI4PLC_18_1_18_1'.\n",
      "Incomplete compound stoichiometry in 'FRUt1r'.\n",
      "Incomplete compound stoichiometry in 'FUM'.\n",
      "Incomplete compound stoichiometry in 'PI4PLC_18_1_18_2'.\n",
      "Incomplete compound stoichiometry in 'FUMtr'.\n",
      "Incomplete compound stoichiometry in 'PI4PLC_18_2_16_0'.\n",
      "Incomplete compound stoichiometry in 'G6PDA'.\n",
      "Incomplete compound stoichiometry in 'G6PDH2r'.\n",
      "Incomplete compound stoichiometry in 'PI4PLC_18_2_18_1'.\n",
      "Incomplete compound stoichiometry in 'GALKr'.\n",
      "Incomplete compound stoichiometry in 'PI4PP_16_0_16_0'.\n",
      "Incomplete compound stoichiometry in 'PI4PP_16_0_18_1'.\n",
      "Incomplete compound stoichiometry in 'PI4PP_16_0_18_2'.\n",
      "Incomplete compound stoichiometry in 'PI4PP_18_1_18_1'.\n",
      "Incomplete compound stoichiometry in 'PI4PP_18_1_18_2'.\n",
      "Incomplete compound stoichiometry in 'GALOR'.\n",
      "Incomplete compound stoichiometry in 'GALT'.\n",
      "Incomplete compound stoichiometry in 'GALUi'.\n",
      "Incomplete compound stoichiometry in 'GALt1r'.\n",
      "Incomplete compound stoichiometry in 'PI4PP_18_2_16_0'.\n",
      "Incomplete compound stoichiometry in 'GAMt1r'.\n",
      "Incomplete compound stoichiometry in 'GAPD'.\n",
      "Incomplete compound stoichiometry in 'PI4PP_18_2_18_1'.\n",
      "Incomplete compound stoichiometry in 'GGLUCT'.\n",
      "Incomplete compound stoichiometry in 'PIK4_16_0_16_0'.\n",
      "Incomplete compound stoichiometry in 'PIK4_16_0_18_1'.\n",
      "Incomplete compound stoichiometry in 'GK1'.\n",
      "Incomplete compound stoichiometry in 'PIK4_16_0_18_2'.\n",
      "Incomplete compound stoichiometry in 'GLCt1'.\n",
      "Incomplete compound stoichiometry in 'PIK4_18_1_18_1'.\n",
      "Incomplete compound stoichiometry in 'GLNS'.\n",
      "Incomplete compound stoichiometry in 'PIK4_18_1_18_2'.\n",
      "Incomplete compound stoichiometry in 'PIK4_18_2_16_0'.\n",
      "Incomplete compound stoichiometry in 'GLNt4'.\n",
      "Incomplete compound stoichiometry in 'GLUCYS'.\n",
      "Incomplete compound stoichiometry in 'PIK4_18_2_18_1'.\n",
      "Incomplete compound stoichiometry in 'PIPLC_16_0_16_0'.\n"
     ]
    },
    {
     "name": "stderr",
     "output_type": "stream",
     "text": [
      "Incomplete compound stoichiometry in 'GLYCt'.\n",
      "Incomplete compound stoichiometry in 'PIPLC_16_0_18_1'.\n",
      "Incomplete compound stoichiometry in 'PIPLC_16_0_18_2'.\n",
      "Incomplete compound stoichiometry in 'GLYK'.\n",
      "Incomplete compound stoichiometry in 'PIPLC_18_1_18_1'.\n",
      "Incomplete compound stoichiometry in 'PIPLC_18_1_18_2'.\n",
      "Incomplete compound stoichiometry in 'PIPLC_18_2_16_0'.\n",
      "Incomplete compound stoichiometry in 'PIPLC_18_2_18_1'.\n",
      "Incomplete compound stoichiometry in 'PIt'.\n",
      "Incomplete compound stoichiometry in 'PLA2_2_16_0_16_0'.\n",
      "Incomplete compound stoichiometry in 'PLA2_2_16_0_18_1'.\n",
      "Incomplete compound stoichiometry in 'PLA2_2_16_0_18_2'.\n",
      "Incomplete compound stoichiometry in 'PLA2_2_18_1_18_1'.\n",
      "Incomplete compound stoichiometry in 'PLA2_2_18_1_18_2'.\n",
      "Incomplete compound stoichiometry in 'PLA2_2_18_2_16_0'.\n",
      "Incomplete compound stoichiometry in 'PLA2_2_18_2_18_1'.\n",
      "Incomplete compound stoichiometry in 'PMANM'.\n",
      "Incomplete compound stoichiometry in 'PNP'.\n",
      "Incomplete compound stoichiometry in 'PPA'.\n",
      "Incomplete compound stoichiometry in 'PPAP_16_0_16_0'.\n",
      "Incomplete compound stoichiometry in 'PPAP_16_0_18_1'.\n",
      "Incomplete compound stoichiometry in 'PPAP_16_0_18_2'.\n",
      "Incomplete compound stoichiometry in 'PPAP_18_1_18_1'.\n",
      "Incomplete compound stoichiometry in 'PPAP_18_1_18_2'.\n",
      "Incomplete compound stoichiometry in 'PPAP_18_2_16_0'.\n",
      "Incomplete compound stoichiometry in 'PPAP_18_2_18_1'.\n",
      "Incomplete compound stoichiometry in 'PPBNGS'.\n",
      "Incomplete compound stoichiometry in 'PPM'.\n",
      "Incomplete compound stoichiometry in 'PPPGO'.\n",
      "Incomplete compound stoichiometry in 'PRPPS'.\n",
      "Incomplete compound stoichiometry in 'PTRCtex2'.\n",
      "Incomplete compound stoichiometry in 'PUNP1'.\n",
      "Incomplete compound stoichiometry in 'PUNP3'.\n",
      "Incomplete compound stoichiometry in 'PUNP5'.\n",
      "Incomplete compound stoichiometry in 'PYAM5PO'.\n"
     ]
    },
    {
     "data": {
      "text/plain": [
       "{}"
      ]
     },
     "execution_count": 6,
     "metadata": {},
     "output_type": "execute_result"
    }
   ],
   "source": [
    "from equilibrator_api import compatibility\n",
    "from equilibrator_cache import create_compound_cache_from_quilt\n",
    "\n",
    "mapped = compatibility.map_cobra_reactions(\n",
    "            create_compound_cache_from_quilt(),\n",
    "            [r for r in model.reactions if not tma.is_trans(r)]\n",
    ")\n",
    "mapped"
   ]
  },
  {
   "cell_type": "markdown",
   "metadata": {},
   "source": [
    "So it isn't."
   ]
  },
  {
   "cell_type": "markdown",
   "metadata": {},
   "source": [
    "## Run the test\n",
    "This test corresponds to a call to `tma()` in the _tma.py_ file."
   ]
  },
  {
   "cell_type": "code",
   "execution_count": 7,
   "metadata": {},
   "outputs": [
    {
     "name": "stdout",
     "output_type": "stream",
     "text": [
      "CPU times: user 27.8 ms, sys: 0 ns, total: 27.8 ms\n",
      "Wall time: 27.5 ms\n"
     ]
    }
   ],
   "source": [
    "%%time\n",
    "normal_solution = model.optimize()"
   ]
  },
  {
   "cell_type": "code",
   "execution_count": 8,
   "metadata": {},
   "outputs": [],
   "source": [
    "T = 298.15\n",
    "RT = T * 8.314472 / 1000\n",
    "thermo = model.copy()"
   ]
  },
  {
   "cell_type": "markdown",
   "metadata": {},
   "source": [
    "### 1. eQuilibrator_api side"
   ]
  },
  {
   "cell_type": "markdown",
   "metadata": {},
   "source": [
    "This function creates the map from equilibrator_api and creates the new variables and constraints of the LP problem."
   ]
  },
  {
   "cell_type": "code",
   "execution_count": 9,
   "metadata": {},
   "outputs": [
    {
     "name": "stdout",
     "output_type": "stream",
     "text": [
      "Downloading package metadata...\n",
      "Fragments already downloaded\n",
      "CPU times: user 41.5 s, sys: 8.41 s, total: 49.9 s\n",
      "Wall time: 50.2 s\n"
     ]
    }
   ],
   "source": [
    "%%time\n",
    "\n",
    "thermo = tma.build_tma_problem(model, T)"
   ]
  },
  {
   "cell_type": "markdown",
   "metadata": {},
   "source": [
    "### 3. Optimize thermodynamic LP problem"
   ]
  },
  {
   "cell_type": "code",
   "execution_count": 10,
   "metadata": {},
   "outputs": [
    {
     "name": "stdout",
     "output_type": "stream",
     "text": [
      "CPU times: user 8.75 ms, sys: 147 µs, total: 8.9 ms\n",
      "Wall time: 8.56 ms\n"
     ]
    }
   ],
   "source": [
    "%%time\n",
    "solution = thermo.optimize()"
   ]
  },
  {
   "cell_type": "markdown",
   "metadata": {},
   "source": [
    "### 4. Compare solutions of cobrapy and thermo model"
   ]
  },
  {
   "cell_type": "code",
   "execution_count": 11,
   "metadata": {},
   "outputs": [
    {
     "name": "stdout",
     "output_type": "stream",
     "text": [
      "Solution of model -> 2.935561466666717\n",
      "Sum of thermo fluxes -> 24.062899866666932\n",
      "Solution of thermo model -> 2.9355614666667176\n",
      "Sum of thermo fluxes -> 24.062899866666932\n"
     ]
    }
   ],
   "source": [
    "print(\n",
    "        f\"Solution of model -> {normal_solution.objective_value}\\n\"\n",
    "        f\"Sum of thermo fluxes -> {normal_solution.fluxes.sum()}\\n\"\n",
    "        f\"Solution of thermo model -> {solution.objective_value}\\n\"\n",
    "        f\"Sum of thermo fluxes -> {solution.fluxes.sum()}\"\n",
    "    )"
   ]
  }
 ],
 "metadata": {
  "kernelspec": {
   "display_name": "Python 3",
   "language": "python",
   "name": "python3"
  },
  "language_info": {
   "codemirror_mode": {
    "name": "ipython",
    "version": 3
   },
   "file_extension": ".py",
   "mimetype": "text/x-python",
   "name": "python",
   "nbconvert_exporter": "python",
   "pygments_lexer": "ipython3",
   "version": "3.6.8"
  }
 },
 "nbformat": 4,
 "nbformat_minor": 2
}
