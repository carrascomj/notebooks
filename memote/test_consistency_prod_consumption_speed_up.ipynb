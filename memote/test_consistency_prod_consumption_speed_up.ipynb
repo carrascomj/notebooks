{
 "cells": [
  {
   "cell_type": "markdown",
   "metadata": {},
   "source": [
    "# SPEED UP: test metabolite productions in memote\n",
    "\n",
    "The objective is to speed up the metabolite production test of memote, which is currently slow. This test checks the number of metabolites that can be produced by the model.\n",
    "**Current implementation**:\n",
    "    1. Add a demand for every metabolite.\n",
    "    2. Optimize the model.\n",
    "    3. Check for flux in demand.\n",
    "    4. Remove demand (when the model goes out of context).\n",
    "There are 3 possible ways of speeding up the process:\n",
    "\n",
    "1. **Change logic** of the test. Adding a new boundary for the problem is very slow. The first optimization would consist on the following steps:  \n",
    "   * Add a variable just once (bounds in 0,1000);\n",
    "   * for each metabolite:  \n",
    "        ▪ get the linear coefficients of the constraint of each metabolite;  \n",
    "        ▪ add a “-1” coefficient to the variable in the constraint;  \n",
    "        ▪ solve;  \n",
    "        ▪ restore constraint;  \n",
    "        ▪ If not solution, add the metabolite to the returned output.\n",
    "            \n",
    "2. **Multiprocessing**: see FVA in cobrapy.\n",
    "3. **Remove orphan metabolites** of the test (checked by a previous test). This would need refactoring and should be avoided if possible."
   ]
  },
  {
   "cell_type": "markdown",
   "metadata": {},
   "source": [
    "The tests will be performed on an small BiGG model."
   ]
  },
  {
   "cell_type": "code",
   "execution_count": 1,
   "metadata": {},
   "outputs": [],
   "source": [
    "![ ! -f \"iAB_RBC_283.xml\" ] && curl -L -O 'http://bigg.ucsd.edu/static/models/iAB_RBC_283.xml'\n",
    "VERBOSITY = False\n",
    "PROCESSES = 4"
   ]
  },
  {
   "cell_type": "markdown",
   "metadata": {},
   "source": [
    "## 1. Change logic"
   ]
  },
  {
   "cell_type": "markdown",
   "metadata": {},
   "source": [
    "The new logic will be compared to the old in this section."
   ]
  },
  {
   "cell_type": "code",
   "execution_count": 2,
   "metadata": {},
   "outputs": [],
   "source": [
    "from time import time\n",
    "\n",
    "import cobra\n",
    "import numpy as np\n",
    "from copy import deepcopy\n",
    "from cobra.exceptions import Infeasible\n",
    "from tqdm import tqdm\n",
    "import sys"
   ]
  },
  {
   "cell_type": "markdown",
   "metadata": {},
   "source": [
    "Old functions in memote (`consistency.py`)."
   ]
  },
  {
   "cell_type": "code",
   "execution_count": 3,
   "metadata": {},
   "outputs": [],
   "source": [
    "def run_fba(model, rxn_id, direction=\"max\", single_value=True):\n",
    "    model.objective = model.reactions.get_by_id(rxn_id)\n",
    "    model.objective_direction = direction\n",
    "    if single_value:\n",
    "        return model.slim_optimize()\n",
    "    else:\n",
    "        try:\n",
    "            solution = model.optimize()\n",
    "        except Infeasible:\n",
    "            return solution\n",
    "            return np.nan\n",
    "\n",
    "\n",
    "def open_exchanges(model):\n",
    "    for rxn in model.exchanges:\n",
    "        rxn.bounds = (-1000, 1000)\n",
    "\n",
    "\n",
    "def test_old(model):\n",
    "    \"\"\"\n",
    "    old_test in consistency.py\n",
    "    \"\"\"\n",
    "    mets_not_produced = list()\n",
    "    open_exchanges(model)\n",
    "    pbar = tqdm(total=len(model.metabolites))\n",
    "    for met in model.metabolites:\n",
    "        with model:\n",
    "            exch = model.add_boundary(\n",
    "                met, type=\"irrex\", reaction_id=\"IRREX\", lb=0, ub=1000\n",
    "            )\n",
    "            solution = run_fba(model, exch.id)\n",
    "            if np.isnan(solution) or solution < model.tolerance:\n",
    "                mets_not_produced.append(met)\n",
    "        pbar.update(1)\n",
    "    return mets_not_produced"
   ]
  },
  {
   "cell_type": "markdown",
   "metadata": {},
   "source": [
    "New logic."
   ]
  },
  {
   "cell_type": "code",
   "execution_count": 4,
   "metadata": {},
   "outputs": [],
   "source": [
    "def solve_boundary(metabolite, rxn, val=-1):\n",
    "    \"\"\"\n",
    "    Solves the model when some reaction `rxn` has been added to the `metabolite`'s contraints.\n",
    "    \"\"\"\n",
    "    metabolite.constraint.set_linear_coefficients({rxn: val})\n",
    "    solution = metabolite.model.slim_optimize()\n",
    "    # TODO: it seems like with context doesn't catch these changes, need to check\n",
    "    # restore constraint\n",
    "    metabolite.constraint.set_linear_coefficients({rxn: 0})\n",
    "    return solution\n",
    "\n",
    "\n",
    "def test_new(model):\n",
    "    \"\"\"\n",
    "    New test\n",
    "    \"\"\"\n",
    "    mets_not_produced = list()\n",
    "    open_exchanges(model)\n",
    "    irr = model.problem.Variable(\"irr\", lb=0, ub=1000)\n",
    "    with model:\n",
    "        model.add_cons_vars(irr)\n",
    "        # helper.run_fba() only accepts reactions in the model\n",
    "        model.objective = irr\n",
    "        pbar = tqdm(total=len(model.metabolites))\n",
    "        for met in model.metabolites:\n",
    "            solution = solve_boundary(met, irr)\n",
    "            if np.isnan(solution) or solution < model.tolerance:\n",
    "                mets_not_produced.append(met)\n",
    "            pbar.update(1)\n",
    "    return mets_not_produced"
   ]
  },
  {
   "cell_type": "markdown",
   "metadata": {},
   "source": [
    "Comparison between the two."
   ]
  },
  {
   "cell_type": "code",
   "execution_count": 7,
   "metadata": {
    "scrolled": true
   },
   "outputs": [
    {
     "name": "stderr",
     "output_type": "stream",
     "text": [
      "  2%|▏         | 8/342 [00:00<00:04, 77.18it/s]"
     ]
    },
    {
     "name": "stdout",
     "output_type": "stream",
     "text": [
      "Number of metabolites in the model: 342\n"
     ]
    },
    {
     "name": "stderr",
     "output_type": "stream",
     "text": [
      "100%|██████████| 342/342 [00:02<00:00, 122.88it/s]\n",
      "  9%|▉         | 31/342 [00:00<00:01, 159.86it/s]"
     ]
    },
    {
     "name": "stdout",
     "output_type": "stream",
     "text": [
      "Identified metabolites by the old version: 22 in 2.7938179969787598 s\n"
     ]
    },
    {
     "name": "stderr",
     "output_type": "stream",
     "text": [
      "100%|██████████| 342/342 [00:02<00:00, 158.13it/s]"
     ]
    },
    {
     "name": "stdout",
     "output_type": "stream",
     "text": [
      "Identified metabolites by the new version: 22 in 2.174250602722168 s\n",
      "set()\n"
     ]
    },
    {
     "name": "stderr",
     "output_type": "stream",
     "text": [
      "\n"
     ]
    }
   ],
   "source": [
    "model = cobra.io.read_sbml_model(\"iAB_RBC_283.xml\")\n",
    "model.solver = \"glpk\"\n",
    "if VERBOSITY:\n",
    "    model.solver.interface.Configuration.verbosity = model.solver.interface.Configuration(\n",
    "        verbosity=3\n",
    "    )\n",
    "\n",
    "print(f\"Number of metabolites in the model: {len(model.metabolites)}\")\n",
    "start = time()\n",
    "old = set(test_old(model))\n",
    "print(\n",
    "    f\"Identified metabolites by the old version: {len(old)} in {time() - start} s\"\n",
    ")\n",
    "# old is 99 for this model in 12.536982536315918 s\n",
    "start = time()\n",
    "new = set(test_new(model))\n",
    "print(\n",
    "    f\"Identified metabolites by the new version: {len(new)} in {time() - start} s\"\n",
    ")\n",
    "print(old ^ new)\n",
    "\n",
    "assert old == new"
   ]
  },
  {
   "cell_type": "markdown",
   "metadata": {},
   "source": [
    "## 2. Multiprocessing\n",
    "\n",
    "It will be implemented in a similar fashion as in [cobrapy](https://github.com/opencobra/cobrapy/blob/devel/cobra/flux_analysis/variability.py) in the FVA.\n",
    "\n",
    "First, we need a model that it's shared for all the process."
   ]
  },
  {
   "cell_type": "code",
   "execution_count": 8,
   "metadata": {},
   "outputs": [],
   "source": [
    "import multiprocessing"
   ]
  },
  {
   "cell_type": "code",
   "execution_count": 9,
   "metadata": {},
   "outputs": [],
   "source": [
    "def _init_worker(model, irr, val):\n",
    "    \"\"\"Initialize a global model object for multiprocessing.\n",
    "\n",
    "    Parameters\n",
    "    ----------\n",
    "    model : cobra.Model\n",
    "        The metabolic model under investigation.\n",
    "    irr: optlang.Variable || cobra.Reaction\n",
    "        the reaction to be added to the linear coefficients. It must be in the\n",
    "        variables of the model.\n",
    "    val: int\n",
    "        value of the linear coefficient (1 for consumption, -1 for production)\n",
    "    \"\"\"\n",
    "    global _model\n",
    "    global _irr\n",
    "    global _val\n",
    "    _model = model\n",
    "    _model.objective = irr\n",
    "    _irr = irr\n",
    "    _val = val\n",
    "\n",
    "\n",
    "def _solve_metabolite_production(metabolite):\n",
    "    \"\"\"\n",
    "    Solves the model when some reaction has been added to a `metabolite`'s\n",
    "    contraints. The reaction and the model are passed as globals.\n",
    "\n",
    "    Parameters\n",
    "    ----------\n",
    "    metabolite: cobra.Metabolite\n",
    "        the reaction will be added to this metabolite as a linear coefficient\n",
    "\n",
    "    Returns\n",
    "    -------\n",
    "    solution: float\n",
    "        the value of the solution of the LP problem, *NaN* if infeasible.\n",
    "    metabolite: cobra.Metabolite\n",
    "        metabolite passed as argument (to use map as a filter)\n",
    "    \"\"\"\n",
    "    global _model\n",
    "    global _irr\n",
    "    global _val\n",
    "    constraint = _model.metabolites.get_by_id(metabolite.id).constraint\n",
    "    constraint.set_linear_coefficients({_irr: _val})\n",
    "    solution = _model.slim_optimize()\n",
    "    constraint.set_linear_coefficients({_irr: 0})\n",
    "    return solution, metabolite"
   ]
  },
  {
   "cell_type": "code",
   "execution_count": 10,
   "metadata": {},
   "outputs": [],
   "source": [
    "def find_metabolites_not_produced_with_open_bounds(model, processes=None, prod = True):\n",
    "    \"\"\"\n",
    "    Return metabolites that cannot be produced with open exchange reactions.\n",
    "\n",
    "    A demand reaction is set as the objective. Then, it is sequentally added as\n",
    "    a coefficient for every metabolite and the solution is inspected.\n",
    "\n",
    "    A perfect model should be able to produce each and every metabolite when\n",
    "    all medium components are available.\n",
    "\n",
    "    Parameters\n",
    "    ----------\n",
    "    model : cobra.Model\n",
    "        The metabolic model under investigation.\n",
    "    processes: int\n",
    "        Number of processes to be used (Default to `cobra.Configuration()`).\n",
    "    prod: bool\n",
    "        If False, it checks for consumption instead of production. Default True\n",
    "\n",
    "    Returns\n",
    "    -------\n",
    "    list\n",
    "        Those metabolites that could not be produced.\n",
    "\n",
    "    \"\"\"\n",
    "    if processes is None:\n",
    "        # For now, borrow the number of processes from cobra's configuration\n",
    "        processes = Configuration().processes\n",
    "    n_mets = len(model.metabolites)\n",
    "    processes = min(processes, n_mets)\n",
    "    # manage the value of the linear coefficient to be added to each metabolite\n",
    "    val = -1 # production\n",
    "    if not prod:\n",
    "        val = 1 # consumption\n",
    "    open_exchanges(model)\n",
    "    irr = model.problem.Variable(\"irr\", lb=0, ub=1000)\n",
    "\n",
    "    if processes > 1:\n",
    "        chunk_s = n_mets // processes\n",
    "        pool = multiprocessing.Pool(\n",
    "            processes,\n",
    "            initializer=_init_worker,\n",
    "            initargs=(model, irr, val),\n",
    "        )\n",
    "        # use map as filter\n",
    "        mets_not_produced = [met for solution, met in pool.imap_unordered(\n",
    "            _solve_metabolite_production, model.metabolites, chunksize=chunk_s\n",
    "        ) if np.isnan(solution) or solution < model.tolerance]\n",
    "        pool.close()\n",
    "        pool.join()\n",
    "    else:\n",
    "        _init_worker(model, irr)\n",
    "        # use map as filter\n",
    "        mets_not_produced = [met for solution, met in map(\n",
    "            _solve_metabolite_production, model.metabolites\n",
    "        ) if np.isnan(solution) or solution < model.tolerance]\n",
    "    return mets_not_produced"
   ]
  },
  {
   "cell_type": "markdown",
   "metadata": {},
   "source": [
    "Finally, we can do the comparison."
   ]
  },
  {
   "cell_type": "code",
   "execution_count": 13,
   "metadata": {},
   "outputs": [
    {
     "name": "stderr",
     "output_type": "stream",
     "text": [
      "  3%|▎         | 10/342 [00:00<00:03, 99.40it/s]"
     ]
    },
    {
     "name": "stdout",
     "output_type": "stream",
     "text": [
      "Number of metabolites in the model: 342\n"
     ]
    },
    {
     "name": "stderr",
     "output_type": "stream",
     "text": [
      "100%|██████████| 342/342 [00:02<00:00, 121.59it/s]\n"
     ]
    },
    {
     "name": "stdout",
     "output_type": "stream",
     "text": [
      "Identified metabolites by the old version: 22 in 2.826913356781006 s\n",
      "Identified metabolites by the new version: 22 in 0.7438373565673828 s\n",
      "set()\n"
     ]
    }
   ],
   "source": [
    "if VERBOSITY:\n",
    "    model.solver.interface.Configuration.verbosity = model.solver.interface.Configuration(\n",
    "        verbosity=3\n",
    "    )\n",
    "\n",
    "print(f\"Number of metabolites in the model: {len(model.metabolites)}\")\n",
    "start = time()\n",
    "old = set([met.id for met in test_old(model)])\n",
    "print(\n",
    "    f\"Identified metabolites by the old version: {len(old)} in {time() - start} s\"\n",
    ")\n",
    "start = time()\n",
    "new = set([met.id for met in find_metabolites_not_produced_with_open_bounds(model, PROCESSES)])\n",
    "print(\n",
    "    f\"Identified metabolites by the new version: {len(new)} in {time() - start} s\"\n",
    ")\n",
    "print(old ^ new)\n",
    "\n",
    "assert old == new"
   ]
  },
  {
   "cell_type": "markdown",
   "metadata": {},
   "source": [
    "# SPEED UP: test metabolite consumptions in memote\n",
    "The opposite test should also incorporate the new logic and the multiprocessing feature.  \n",
    "First, we need the old test for consumption to compare and, of course, the new function (reusing the production test implementation)."
   ]
  },
  {
   "cell_type": "code",
   "execution_count": 14,
   "metadata": {},
   "outputs": [],
   "source": [
    "def consumed_old(model):\n",
    "    \"\"\"\n",
    "    Return metabolites that cannot be consumed with open boundary reactions.\n",
    "    When all metabolites can be secreted, it should be possible for each and\n",
    "    every metabolite to be consumed in some form.\n",
    "    Parameters\n",
    "    ----------\n",
    "    model : cobra.Model\n",
    "        The metabolic model under investigation.\n",
    "    Returns\n",
    "    -------\n",
    "    list\n",
    "        Those metabolites that could not be consumed.\n",
    "    \"\"\"\n",
    "    mets_not_consumed = list()\n",
    "    open_exchanges(model)\n",
    "    for met in model.metabolites:\n",
    "        with model:\n",
    "            exch = model.add_boundary(\n",
    "                met, type=\"irrex\", reaction_id=\"IRREX\", lb=-1000, ub=0)\n",
    "            solution = run_fba(model, exch.id, direction=\"min\")\n",
    "            if np.isnan(solution) or abs(solution) < model.tolerance:\n",
    "                mets_not_consumed.append(met)\n",
    "    return mets_not_consumed\n",
    "\n",
    "def consumed_new(model, processes=None):\n",
    "    return find_metabolites_not_produced_with_open_bounds(model, processes=processes, prod=False)"
   ]
  },
  {
   "cell_type": "code",
   "execution_count": 16,
   "metadata": {},
   "outputs": [
    {
     "name": "stdout",
     "output_type": "stream",
     "text": [
      "Number of metabolites in the model: 342\n",
      "Identified metabolites by the old version: 20 in 2.8499839305877686 s\n",
      "Identified metabolites by the new version: 20 in 0.8409318923950195 s\n",
      "set()\n"
     ]
    }
   ],
   "source": [
    "if VERBOSITY:\n",
    "    model.solver.interface.Configuration.verbosity = model.solver.interface.Configuration(\n",
    "        verbosity=3\n",
    "    )\n",
    "\n",
    "print(f\"Number of metabolites in the model: {len(model.metabolites)}\")\n",
    "start = time()\n",
    "old = set(consumed_old(model))\n",
    "print(\n",
    "    f\"Identified metabolites by the old version: {len(old)} in {time() - start} s\"\n",
    ")\n",
    "old = set([met.id for met in old])\n",
    "# old is 99 for this model in 12.536982536315918 s\n",
    "start = time()\n",
    "new = set(consumed_new(model, PROCESSES))\n",
    "print(\n",
    "    f\"Identified metabolites by the new version: {len(new)} in {time() - start} s\"\n",
    ")\n",
    "new = set([met.id for met in new])\n",
    "print(old ^ new)\n",
    "\n",
    "assert old == new"
   ]
  }
 ],
 "metadata": {
  "kernelspec": {
   "display_name": "Python 3",
   "language": "python",
   "name": "python3"
  },
  "language_info": {
   "codemirror_mode": {
    "name": "ipython",
    "version": 3
   },
   "file_extension": ".py",
   "mimetype": "text/x-python",
   "name": "python",
   "nbconvert_exporter": "python",
   "pygments_lexer": "ipython3",
   "version": "3.6.8"
  }
 },
 "nbformat": 4,
 "nbformat_minor": 2
}
